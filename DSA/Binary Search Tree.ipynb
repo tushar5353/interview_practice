{
 "cells": [
  {
   "cell_type": "code",
   "execution_count": 25,
   "id": "871dfb1a",
   "metadata": {},
   "outputs": [],
   "source": [
    "class Node:\n",
    "    def __init__(self, k):\n",
    "        self.left = None\n",
    "        self.right = None\n",
    "        self.k = k"
   ]
  },
  {
   "cell_type": "code",
   "execution_count": 2,
   "id": "46b78204",
   "metadata": {},
   "outputs": [],
   "source": [
    "root = Node(10)"
   ]
  },
  {
   "cell_type": "markdown",
   "id": "739ba155",
   "metadata": {},
   "source": [
    "## Insert using recursion"
   ]
  },
  {
   "cell_type": "code",
   "execution_count": 26,
   "id": "8359f014",
   "metadata": {},
   "outputs": [],
   "source": [
    "def recursive_insert(item, root):\n",
    "    print(root.k)\n",
    "    if not root:\n",
    "        return Node(item)\n",
    "    elif root.k == item:\n",
    "        return root\n",
    "    elif root.k > item:\n",
    "        root.left = recursive_insert(root.left, item)\n",
    "    else:\n",
    "        root.right = recursive_insert(root.right, item)\n",
    "    return root\n",
    "            "
   ]
  },
  {
   "cell_type": "code",
   "execution_count": 27,
   "id": "201ada75",
   "metadata": {},
   "outputs": [
    {
     "ename": "AttributeError",
     "evalue": "'NoneType' object has no attribute 'k'",
     "output_type": "error",
     "traceback": [
      "\u001b[1;31m---------------------------------------------------------------------------\u001b[0m",
      "\u001b[1;31mAttributeError\u001b[0m                            Traceback (most recent call last)",
      "\u001b[1;32m<ipython-input-27-82abe1bb4fcf>\u001b[0m in \u001b[0;36m<module>\u001b[1;34m\u001b[0m\n\u001b[1;32m----> 1\u001b[1;33m \u001b[0mroot\u001b[0m \u001b[1;33m=\u001b[0m \u001b[0mrecursive_insert\u001b[0m\u001b[1;33m(\u001b[0m\u001b[1;36m10\u001b[0m\u001b[1;33m,\u001b[0m \u001b[1;32mNone\u001b[0m\u001b[1;33m)\u001b[0m\u001b[1;33m\u001b[0m\u001b[1;33m\u001b[0m\u001b[0m\n\u001b[0m\u001b[0;32m      2\u001b[0m \u001b[0mroot\u001b[0m \u001b[1;33m=\u001b[0m \u001b[0mrecursive_insert\u001b[0m\u001b[1;33m(\u001b[0m\u001b[1;36m20\u001b[0m\u001b[1;33m,\u001b[0m \u001b[0mroot\u001b[0m\u001b[1;33m)\u001b[0m\u001b[1;33m\u001b[0m\u001b[1;33m\u001b[0m\u001b[0m\n\u001b[0;32m      3\u001b[0m \u001b[0mroot\u001b[0m \u001b[1;33m=\u001b[0m \u001b[0mrecursive_insert\u001b[0m\u001b[1;33m(\u001b[0m\u001b[1;36m5\u001b[0m\u001b[1;33m,\u001b[0m \u001b[0mroot\u001b[0m\u001b[1;33m)\u001b[0m\u001b[1;33m\u001b[0m\u001b[1;33m\u001b[0m\u001b[0m\n\u001b[0;32m      4\u001b[0m \u001b[0mroot\u001b[0m \u001b[1;33m=\u001b[0m \u001b[0mrecursive_insert\u001b[0m\u001b[1;33m(\u001b[0m\u001b[1;36m9\u001b[0m\u001b[1;33m,\u001b[0m \u001b[0mroot\u001b[0m\u001b[1;33m)\u001b[0m\u001b[1;33m\u001b[0m\u001b[1;33m\u001b[0m\u001b[0m\n",
      "\u001b[1;32m<ipython-input-26-f60733e73450>\u001b[0m in \u001b[0;36mrecursive_insert\u001b[1;34m(item, root)\u001b[0m\n\u001b[0;32m      1\u001b[0m \u001b[1;32mdef\u001b[0m \u001b[0mrecursive_insert\u001b[0m\u001b[1;33m(\u001b[0m\u001b[0mitem\u001b[0m\u001b[1;33m,\u001b[0m \u001b[0mroot\u001b[0m\u001b[1;33m)\u001b[0m\u001b[1;33m:\u001b[0m\u001b[1;33m\u001b[0m\u001b[1;33m\u001b[0m\u001b[0m\n\u001b[1;32m----> 2\u001b[1;33m     \u001b[0mprint\u001b[0m\u001b[1;33m(\u001b[0m\u001b[0mroot\u001b[0m\u001b[1;33m.\u001b[0m\u001b[0mk\u001b[0m\u001b[1;33m)\u001b[0m\u001b[1;33m\u001b[0m\u001b[1;33m\u001b[0m\u001b[0m\n\u001b[0m\u001b[0;32m      3\u001b[0m     \u001b[1;32mif\u001b[0m \u001b[1;32mnot\u001b[0m \u001b[0mroot\u001b[0m\u001b[1;33m:\u001b[0m\u001b[1;33m\u001b[0m\u001b[1;33m\u001b[0m\u001b[0m\n\u001b[0;32m      4\u001b[0m         \u001b[1;32mreturn\u001b[0m \u001b[0mNode\u001b[0m\u001b[1;33m(\u001b[0m\u001b[0mitem\u001b[0m\u001b[1;33m)\u001b[0m\u001b[1;33m\u001b[0m\u001b[1;33m\u001b[0m\u001b[0m\n\u001b[0;32m      5\u001b[0m     \u001b[1;32melif\u001b[0m \u001b[0mroot\u001b[0m\u001b[1;33m.\u001b[0m\u001b[0mk\u001b[0m \u001b[1;33m==\u001b[0m \u001b[0mitem\u001b[0m\u001b[1;33m:\u001b[0m\u001b[1;33m\u001b[0m\u001b[1;33m\u001b[0m\u001b[0m\n",
      "\u001b[1;31mAttributeError\u001b[0m: 'NoneType' object has no attribute 'k'"
     ]
    }
   ],
   "source": [
    "root = recursive_insert(10, None)\n",
    "root = recursive_insert(20, root)\n",
    "root = recursive_insert(5, root)\n",
    "root = recursive_insert(9, root)"
   ]
  },
  {
   "cell_type": "code",
   "execution_count": 28,
   "id": "0a7d199c",
   "metadata": {},
   "outputs": [],
   "source": [
    "def iterative_insert(root, item):\n",
    "    if not root:\n",
    "        return Node(item)\n",
    "    parent = None\n",
    "    curr = root\n",
    "    while curr:\n",
    "        parent = curr\n",
    "        if curr.k == item:\n",
    "            return curr\n",
    "        if curr.k > item:\n",
    "            curr = curr.left\n",
    "        else:\n",
    "            curr = curr.right\n",
    "    if not parent:\n",
    "        return Node(item)\n",
    "    if parent.k > item:\n",
    "        parent.left = Node(item)\n",
    "    if parent.k < item:\n",
    "        parent.right = Node(item)\n",
    "    return root"
   ]
  },
  {
   "cell_type": "code",
   "execution_count": 36,
   "id": "ce0f1408",
   "metadata": {},
   "outputs": [],
   "source": [
    "root = iterative_insert(root, 1)"
   ]
  },
  {
   "cell_type": "code",
   "execution_count": 37,
   "id": "41374677",
   "metadata": {},
   "outputs": [
    {
     "data": {
      "text/plain": [
       "10"
      ]
     },
     "execution_count": 37,
     "metadata": {},
     "output_type": "execute_result"
    }
   ],
   "source": [
    "root.k"
   ]
  },
  {
   "cell_type": "code",
   "execution_count": 44,
   "id": "b67bf0a2",
   "metadata": {},
   "outputs": [],
   "source": [
    "from collections import deque\n",
    "def level_traversal(root):\n",
    "    q = deque()\n",
    "    q.append(root)\n",
    "    while len(q):\n",
    "        curr = q.popleft()\n",
    "        print(curr.k)\n",
    "        if curr.left:\n",
    "            q.append(curr.left)\n",
    "        if curr.right:\n",
    "            q.append(curr.right)\n",
    "        "
   ]
  },
  {
   "cell_type": "code",
   "execution_count": 45,
   "id": "90fa6460",
   "metadata": {},
   "outputs": [
    {
     "name": "stdout",
     "output_type": "stream",
     "text": [
      "10\n",
      "5\n",
      "100\n",
      "1\n",
      "9\n",
      "34\n",
      "13\n",
      "93\n"
     ]
    }
   ],
   "source": [
    "level_traversal(root)"
   ]
  },
  {
   "cell_type": "code",
   "execution_count": 49,
   "id": "204449e7",
   "metadata": {},
   "outputs": [],
   "source": [
    "def traverse_inorder(root):\n",
    "    if root:\n",
    "        traverse_inorder(root.left)\n",
    "        print(root.k)\n",
    "        traverse_inorder(root.right)"
   ]
  },
  {
   "cell_type": "code",
   "execution_count": 50,
   "id": "32f2e8e8",
   "metadata": {},
   "outputs": [
    {
     "name": "stdout",
     "output_type": "stream",
     "text": [
      "1\n",
      "5\n",
      "9\n",
      "10\n",
      "13\n",
      "34\n",
      "93\n",
      "100\n"
     ]
    }
   ],
   "source": [
    "traverse_inorder(root)"
   ]
  },
  {
   "cell_type": "markdown",
   "id": "ea2e20fb",
   "metadata": {},
   "source": [
    "## Search in BST"
   ]
  },
  {
   "cell_type": "code",
   "execution_count": 62,
   "id": "85554040",
   "metadata": {},
   "outputs": [],
   "source": [
    "def search(root, item):\n",
    "    if not root:\n",
    "        return False\n",
    "    elif root.k == item:\n",
    "        return True\n",
    "    elif root.k > item:\n",
    "        print(\"left\")\n",
    "        return search(root.left, item)\n",
    "    else:\n",
    "        print(\"right\")\n",
    "        return search(root.right, item)\n",
    "    "
   ]
  },
  {
   "cell_type": "code",
   "execution_count": 63,
   "id": "bd288e93",
   "metadata": {},
   "outputs": [
    {
     "name": "stdout",
     "output_type": "stream",
     "text": [
      "left\n",
      "right\n"
     ]
    },
    {
     "data": {
      "text/plain": [
       "True"
      ]
     },
     "execution_count": 63,
     "metadata": {},
     "output_type": "execute_result"
    }
   ],
   "source": [
    "search(root, 9)"
   ]
  },
  {
   "cell_type": "code",
   "execution_count": 64,
   "id": "91b77257",
   "metadata": {},
   "outputs": [],
   "source": [
    "def search_iterative(root, item):\n",
    "    while root:\n",
    "        if root.k == item:\n",
    "            return True\n",
    "        elif root.k > item:\n",
    "            root = root.left\n",
    "        else:\n",
    "            root = root.right\n",
    "    return False"
   ]
  },
  {
   "cell_type": "code",
   "execution_count": 68,
   "id": "f8cc21c1",
   "metadata": {},
   "outputs": [
    {
     "data": {
      "text/plain": [
       "True"
      ]
     },
     "execution_count": 68,
     "metadata": {},
     "output_type": "execute_result"
    }
   ],
   "source": [
    "search_iterative(root, 9)"
   ]
  },
  {
   "cell_type": "markdown",
   "id": "0413578c",
   "metadata": {},
   "source": [
    "## Delete a Node"
   ]
  },
  {
   "cell_type": "code",
   "execution_count": 70,
   "id": "5b48b32f",
   "metadata": {},
   "outputs": [],
   "source": [
    "def del_node(root, item):\n",
    "    if root.k == item:\n",
    "        return None\n",
    "    elif root.k > item:\n",
    "        root.left = del_node(root.left, item)\n",
    "    elif root.k < item:\n",
    "        root.right = del_node(root.right, item)\n",
    "    else:\n",
    "        if root.right is None:\n",
    "            return root.left\n",
    "        elif root.left is None:\n",
    "            return root.right\n",
    "        else:\n",
    "            succ = get_successor(root, item)\n",
    "            root.k = succ\n",
    "            root.right = del_node(root.right, succ)\n",
    "    return root\n",
    "        \n",
    "def get_successor(root, item):\n",
    "    curr = root\n",
    "    while curr.left:\n",
    "        curr = curr.left\n",
    "    return curr.k"
   ]
  },
  {
   "cell_type": "code",
   "execution_count": 71,
   "id": "91745910",
   "metadata": {},
   "outputs": [
    {
     "name": "stdout",
     "output_type": "stream",
     "text": [
      "1\n",
      "5\n",
      "9\n",
      "10\n",
      "13\n",
      "34\n",
      "93\n",
      "100\n"
     ]
    }
   ],
   "source": [
    "traverse_inorder(root)"
   ]
  },
  {
   "cell_type": "code",
   "execution_count": 72,
   "id": "aeea8cf6",
   "metadata": {},
   "outputs": [],
   "source": [
    "root = del_node(root, 1)"
   ]
  },
  {
   "cell_type": "code",
   "execution_count": 74,
   "id": "46e0c50f",
   "metadata": {},
   "outputs": [
    {
     "name": "stdout",
     "output_type": "stream",
     "text": [
      "5\n",
      "9\n",
      "10\n",
      "13\n",
      "34\n",
      "93\n",
      "100\n"
     ]
    }
   ],
   "source": [
    "traverse_inorder(root)"
   ]
  },
  {
   "cell_type": "code",
   "execution_count": null,
   "id": "a53a26b4",
   "metadata": {},
   "outputs": [],
   "source": [
    "1, 20, 5, credit, 11:58\n",
    "1, 15, 5, debit, 00:13"
   ]
  }
 ],
 "metadata": {
  "kernelspec": {
   "display_name": "Python 3 (ipykernel)",
   "language": "python",
   "name": "python3"
  },
  "language_info": {
   "codemirror_mode": {
    "name": "ipython",
    "version": 3
   },
   "file_extension": ".py",
   "mimetype": "text/x-python",
   "name": "python",
   "nbconvert_exporter": "python",
   "pygments_lexer": "ipython3",
   "version": "3.8.10"
  }
 },
 "nbformat": 4,
 "nbformat_minor": 5
}
