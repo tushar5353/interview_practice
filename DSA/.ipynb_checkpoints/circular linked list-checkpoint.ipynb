{
 "cells": [
  {
   "cell_type": "code",
   "execution_count": 4,
   "id": "a5284e84",
   "metadata": {},
   "outputs": [],
   "source": [
    "class Node:\n",
    "    def __init__(self, k):\n",
    "        self.k = k\n",
    "        self.next = None"
   ]
  },
  {
   "cell_type": "markdown",
   "id": "2418e5b2",
   "metadata": {},
   "source": [
    "## Create and traverse Circular Linked List"
   ]
  },
  {
   "cell_type": "code",
   "execution_count": 96,
   "id": "0b635435",
   "metadata": {},
   "outputs": [],
   "source": [
    "l = [10,20,30,40]\n",
    "def create_circular_linkedlist(k):\n",
    "    new_node = Node(k)\n",
    "    if not head:\n",
    "        return new_node, new_node\n",
    "    curr = head\n",
    "    while curr.next:\n",
    "        curr = curr.next\n",
    "    curr.next = new_node\n",
    "    return head, new_node\n",
    "\n",
    "head = None\n",
    "for i in l:\n",
    "    head, last = create_circular_linkedlist(i)\n",
    "last.next = head\n",
    "        "
   ]
  },
  {
   "cell_type": "code",
   "execution_count": 21,
   "id": "39a0ca48",
   "metadata": {},
   "outputs": [],
   "source": [
    "def traverse_circular_linkedlist(head):\n",
    "    curr = head\n",
    "    while curr.next != head:\n",
    "        print(curr.k, end=\"->\")\n",
    "        curr = curr.next"
   ]
  },
  {
   "cell_type": "code",
   "execution_count": 97,
   "id": "b75eb03d",
   "metadata": {},
   "outputs": [
    {
     "name": "stdout",
     "output_type": "stream",
     "text": [
      "10->20->30->"
     ]
    }
   ],
   "source": [
    "traverse_circular_linkedlist(head)"
   ]
  },
  {
   "cell_type": "markdown",
   "id": "40f5c92c",
   "metadata": {},
   "source": [
    "## Insert at beginning"
   ]
  },
  {
   "cell_type": "code",
   "execution_count": 28,
   "id": "fa69b256",
   "metadata": {},
   "outputs": [],
   "source": [
    "def insert_at_beginning(head, k):\n",
    "    new_node = Node(k)\n",
    "    if head is None:\n",
    "        new_node.next = new_node\n",
    "        return new_node\n",
    "    new_node.next = head\n",
    "    curr = head\n",
    "    while curr.next!=head:\n",
    "        curr = curr.next\n",
    "    curr.next = new_node\n",
    "    return new_node"
   ]
  },
  {
   "cell_type": "code",
   "execution_count": 95,
   "id": "50f4d080",
   "metadata": {},
   "outputs": [
    {
     "name": "stdout",
     "output_type": "stream",
     "text": [
      "334->1334->1334->1334->1334->1334->1334->136634->136634->136634->1->1->1->1->1->1->1->1->1->1->1->11->11->11->11->11->11->11->11->11->11->11->11->11->11->111->111->111->111->111->111->111->1334->1334->334->334->34->34->10->20->30->40->334->1334->"
     ]
    }
   ],
   "source": [
    "head = insert_at_beginning(head, 334)\n",
    "traverse_circular_linkedlist(head)"
   ]
  },
  {
   "cell_type": "code",
   "execution_count": 39,
   "id": "eea2fc2d",
   "metadata": {},
   "outputs": [],
   "source": [
    "def insert_at_beginning_swap(head, k):\n",
    "    new_node = Node(k)\n",
    "    if head is None:\n",
    "        new_node.next = new_node\n",
    "        return new_node\n",
    "    new_node.next = head.next\n",
    "    head.next = new_node\n",
    "    head.k, new_node.k = new_node.k, head.k\n",
    "    return head"
   ]
  },
  {
   "cell_type": "code",
   "execution_count": 42,
   "id": "396db547",
   "metadata": {},
   "outputs": [
    {
     "name": "stdout",
     "output_type": "stream",
     "text": [
      "1334\n",
      "1334->1334->1334->334->334->34->34->10->20->30->40->334->1334->1334->1334->1334->1334->"
     ]
    }
   ],
   "source": [
    "head = insert_at_beginning_swap(head, 1334)\n",
    "print(head.k)\n",
    "traverse_circular_linkedlist(head)"
   ]
  },
  {
   "cell_type": "markdown",
   "id": "399d7391",
   "metadata": {},
   "source": [
    "## insert at End"
   ]
  },
  {
   "cell_type": "code",
   "execution_count": 43,
   "id": "8bdcdb01",
   "metadata": {},
   "outputs": [],
   "source": [
    "def insert_end(head, k):\n",
    "    new_node = Node(k)\n",
    "    if not head:\n",
    "        new_node.next = new_node\n",
    "        return new_node\n",
    "    curr = head\n",
    "    while curr.next != head:\n",
    "        curr = curr.next\n",
    "    curr.next = new_node\n",
    "    new_node.next = head\n",
    "    return head"
   ]
  },
  {
   "cell_type": "code",
   "execution_count": 58,
   "id": "c2c887c1",
   "metadata": {},
   "outputs": [
    {
     "name": "stdout",
     "output_type": "stream",
     "text": [
      "1334->1334->1334->334->334->34->34->10->20->30->40->334->1334->1334->1334->1334->1334->1334->1334->136634->136634->136634->1->1->1->1->1->1->1->1->1->1->"
     ]
    }
   ],
   "source": [
    "head = insert_end(head, 1)\n",
    "traverse_circular_linkedlist(head)"
   ]
  },
  {
   "cell_type": "code",
   "execution_count": 112,
   "id": "33245d3d",
   "metadata": {},
   "outputs": [],
   "source": [
    "def insert_end_swap(head, k):\n",
    "    new_node = Node(k)\n",
    "    if not head:\n",
    "        new_node.next = new_node\n",
    "        return new_node\n",
    "    new_node.next = head.next\n",
    "    head.next = new_node\n",
    "    new_node.k, head.k = head.k, new_node.k\n",
    "    return new_node"
   ]
  },
  {
   "cell_type": "code",
   "execution_count": 139,
   "id": "e90e2426",
   "metadata": {},
   "outputs": [
    {
     "name": "stdout",
     "output_type": "stream",
     "text": [
      "11661->11661->11661->11666661->11666661->1551666661->"
     ]
    }
   ],
   "source": [
    "head = insert_end_swap(head, 1551666661)\n",
    "\n",
    "traverse_circular_linkedlist(head)"
   ]
  },
  {
   "cell_type": "markdown",
   "id": "68f87519",
   "metadata": {},
   "source": [
    "## Delete Head"
   ]
  },
  {
   "cell_type": "code",
   "execution_count": 120,
   "id": "b1b4f016",
   "metadata": {},
   "outputs": [],
   "source": [
    "def delete_head(head):\n",
    "    if not head:\n",
    "        return None\n",
    "    elif head.next == head:\n",
    "        return None\n",
    "    else:\n",
    "        head.k  = head.next.k\n",
    "        head.next = head.next.next\n",
    "        return head"
   ]
  },
  {
   "cell_type": "code",
   "execution_count": 128,
   "id": "d13dd638",
   "metadata": {},
   "outputs": [
    {
     "name": "stdout",
     "output_type": "stream",
     "text": [
      "40->11661->11661->11661->11661->"
     ]
    }
   ],
   "source": [
    "head = delete_head(head)\n",
    "\n",
    "traverse_circular_linkedlist(head)"
   ]
  },
  {
   "cell_type": "markdown",
   "id": "ac577ca2",
   "metadata": {},
   "source": [
    "## Delete node a pos"
   ]
  },
  {
   "cell_type": "code",
   "execution_count": 133,
   "id": "9045fa32",
   "metadata": {},
   "outputs": [],
   "source": [
    "def del_at_pos(head, pos):\n",
    "    if not head:\n",
    "        return None\n",
    "    if pos==1:\n",
    "        head.k  = head.next.k\n",
    "        head.next = head.next.next\n",
    "        return head\n",
    "    curr = head\n",
    "    previous = curr\n",
    "    ptr = 1\n",
    "    while ptr==pos:\n",
    "        previous = curr\n",
    "        curr = curr.next\n",
    "        ptr += 1\n",
    "    previous.next = previous.next.next\n",
    "    return head"
   ]
  },
  {
   "cell_type": "code",
   "execution_count": 140,
   "id": "781b127e",
   "metadata": {},
   "outputs": [
    {
     "name": "stdout",
     "output_type": "stream",
     "text": [
      "11661->11661->11661->11666661->11666661->1551666661->"
     ]
    }
   ],
   "source": [
    "traverse_circular_linkedlist(head)"
   ]
  },
  {
   "cell_type": "code",
   "execution_count": 142,
   "id": "cb9ed2e9",
   "metadata": {},
   "outputs": [
    {
     "name": "stdout",
     "output_type": "stream",
     "text": [
      "11661->11666661->11666661->1551666661->"
     ]
    }
   ],
   "source": [
    "head = del_at_pos(head, 5)\n",
    "traverse_circular_linkedlist(head)"
   ]
  },
  {
   "cell_type": "code",
   "execution_count": 2,
   "id": "028df65e",
   "metadata": {},
   "outputs": [
    {
     "name": "stdout",
     "output_type": "stream",
     "text": [
      "0\n",
      "1\n",
      "2\n",
      "3\n",
      "4\n",
      "4\n"
     ]
    }
   ],
   "source": [
    "for i in range(5):\n",
    "    print(i)\n",
    "print(i)"
   ]
  }
 ],
 "metadata": {
  "kernelspec": {
   "display_name": "Python 3",
   "language": "python",
   "name": "python3"
  },
  "language_info": {
   "codemirror_mode": {
    "name": "ipython",
    "version": 3
   },
   "file_extension": ".py",
   "mimetype": "text/x-python",
   "name": "python",
   "nbconvert_exporter": "python",
   "pygments_lexer": "ipython3",
   "version": "3.8.8"
  }
 },
 "nbformat": 4,
 "nbformat_minor": 5
}
