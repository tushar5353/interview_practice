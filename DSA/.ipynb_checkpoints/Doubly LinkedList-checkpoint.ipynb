{
 "cells": [
  {
   "cell_type": "code",
   "execution_count": 1,
   "id": "2f14c5b6",
   "metadata": {},
   "outputs": [],
   "source": [
    "class Node:\n",
    "    def __init__(self, k):\n",
    "        self.k = k\n",
    "        self.previous = None\n",
    "        self.next = None"
   ]
  },
  {
   "cell_type": "code",
   "execution_count": 3,
   "id": "f3ddbd2a",
   "metadata": {},
   "outputs": [],
   "source": [
    "node1 = Node(1)\n",
    "node2 = Node(2)\n",
    "node3 = Node(3)\n",
    "node1.next = node2\n",
    "node2.next = node3\n",
    "node2.previous = node1\n",
    "node3.previous = node2\n",
    "head = node1"
   ]
  },
  {
   "cell_type": "code",
   "execution_count": 17,
   "id": "2f91b44b",
   "metadata": {},
   "outputs": [
    {
     "name": "stdout",
     "output_type": "stream",
     "text": [
      "10\n"
     ]
    }
   ],
   "source": [
    "def create_dlist(k, head):\n",
    "    new_node = Node(k)\n",
    "    if not head:\n",
    "        return new_node\n",
    "    curr = head\n",
    "    while curr.next:\n",
    "        curr = curr.next\n",
    "    curr.next = new_node\n",
    "    new_node.previous = curr\n",
    "    return head\n",
    "\n",
    "head = None\n",
    "l = [10,20,30]\n",
    "for i in l:\n",
    "    head = create_dlist(i, head)\n",
    "print(head.k)"
   ]
  },
  {
   "cell_type": "code",
   "execution_count": 18,
   "id": "21a8b770",
   "metadata": {},
   "outputs": [],
   "source": [
    "def traverse_list(head):\n",
    "    if not head:\n",
    "        return None\n",
    "    curr = head\n",
    "    while curr.next:\n",
    "        print(curr.k, end=\"->\")\n",
    "        curr=curr.next\n",
    "    print(curr.k, end=\"->\")\n"
   ]
  },
  {
   "cell_type": "markdown",
   "id": "4cc27c97",
   "metadata": {},
   "source": [
    "## Insert at beginning"
   ]
  },
  {
   "cell_type": "code",
   "execution_count": 26,
   "id": "c7ef989f",
   "metadata": {},
   "outputs": [],
   "source": [
    "def insert_beginning(head, k):\n",
    "    new_node = Node(k)\n",
    "    if not head:\n",
    "        return new_node\n",
    "    new_node.next = head\n",
    "    head.previous = new_node\n",
    "    return new_node"
   ]
  },
  {
   "cell_type": "code",
   "execution_count": 29,
   "id": "2bc4c3e7",
   "metadata": {},
   "outputs": [
    {
     "name": "stdout",
     "output_type": "stream",
     "text": [
      "122->222->10->20->30->"
     ]
    }
   ],
   "source": [
    "head = insert_beginning(head, 122)\n",
    "traverse_list(head)"
   ]
  },
  {
   "cell_type": "markdown",
   "id": "00a3d908",
   "metadata": {},
   "source": [
    "## Insert at end"
   ]
  },
  {
   "cell_type": "code",
   "execution_count": 30,
   "id": "a32733df",
   "metadata": {},
   "outputs": [],
   "source": [
    "def insert_end(head, k):\n",
    "    new_node = Node(k)\n",
    "    if not head:\n",
    "        return new_node\n",
    "    curr = head\n",
    "    while curr.next:\n",
    "        curr = curr.next\n",
    "    curr.next = new_node\n",
    "    new_node.previous = curr\n",
    "    return head\n",
    "        "
   ]
  },
  {
   "cell_type": "code",
   "execution_count": 32,
   "id": "d1b529ad",
   "metadata": {},
   "outputs": [
    {
     "name": "stdout",
     "output_type": "stream",
     "text": [
      "122->222->10->20->30->122->1223->"
     ]
    }
   ],
   "source": [
    "head = insert_end(head, 1223)\n",
    "traverse_list(head)"
   ]
  },
  {
   "cell_type": "code",
   "execution_count": 34,
   "id": "14b15c45",
   "metadata": {},
   "outputs": [
    {
     "data": {
      "text/plain": [
       "122"
      ]
     },
     "execution_count": 34,
     "metadata": {},
     "output_type": "execute_result"
    }
   ],
   "source": [
    "head.next.next.next.next.next.next.previous.k"
   ]
  },
  {
   "cell_type": "code",
   "execution_count": 35,
   "id": "ea743c85",
   "metadata": {},
   "outputs": [],
   "source": [
    "def delete_head(head):\n",
    "    if not head:\n",
    "        return None\n",
    "    elif not head.next:\n",
    "        return None\n",
    "    else:\n",
    "        new_head = head.next\n",
    "        head.next.previous = None\n",
    "        head.next = None\n",
    "        return new_head"
   ]
  },
  {
   "cell_type": "code",
   "execution_count": 38,
   "id": "e6f3eab3",
   "metadata": {},
   "outputs": [
    {
     "name": "stdout",
     "output_type": "stream",
     "text": [
      "20->30->122->1223->"
     ]
    }
   ],
   "source": [
    "head = delete_head(head)\n",
    "traverse_list(head)"
   ]
  },
  {
   "cell_type": "markdown",
   "id": "3ad5b3d9",
   "metadata": {},
   "source": [
    "## Delete tail"
   ]
  },
  {
   "cell_type": "code",
   "execution_count": 40,
   "id": "b3e25150",
   "metadata": {},
   "outputs": [],
   "source": [
    "def delete_tail(head):\n",
    "    if not head:\n",
    "        return None\n",
    "    elif not head.next:\n",
    "        return None\n",
    "    curr = head\n",
    "    while curr.next:\n",
    "        curr = curr.next\n",
    "    curr.previous.next = None\n",
    "    curr.previous = None\n",
    "    return head"
   ]
  },
  {
   "cell_type": "code",
   "execution_count": 42,
   "id": "805be1e6",
   "metadata": {},
   "outputs": [
    {
     "name": "stdout",
     "output_type": "stream",
     "text": [
      "20->30->"
     ]
    }
   ],
   "source": [
    "head = delete_tail(head)\n",
    "traverse_list(head)"
   ]
  }
 ],
 "metadata": {
  "kernelspec": {
   "display_name": "Python 3",
   "language": "python",
   "name": "python3"
  },
  "language_info": {
   "codemirror_mode": {
    "name": "ipython",
    "version": 3
   },
   "file_extension": ".py",
   "mimetype": "text/x-python",
   "name": "python",
   "nbconvert_exporter": "python",
   "pygments_lexer": "ipython3",
   "version": "3.8.8"
  }
 },
 "nbformat": 4,
 "nbformat_minor": 5
}
