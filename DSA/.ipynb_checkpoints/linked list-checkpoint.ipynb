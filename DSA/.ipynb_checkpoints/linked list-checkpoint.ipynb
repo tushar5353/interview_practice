{
 "cells": [
  {
   "cell_type": "code",
   "execution_count": 1,
   "id": "11b5fbf3",
   "metadata": {},
   "outputs": [],
   "source": [
    "#linked list\n",
    "\n",
    "class Node():\n",
    "    def __init__(self, k):\n",
    "        self.k = k\n",
    "        self.next = None\n",
    "        \n",
    "temp1 = Node(10)\n",
    "temp2 = Node(20)\n",
    "temp3 = Node(30)\n",
    "\n",
    "temp1.next = temp2\n",
    "temp2.next = temp3\n"
   ]
  },
  {
   "cell_type": "code",
   "execution_count": 9,
   "id": "c7239f6a",
   "metadata": {},
   "outputs": [
    {
     "data": {
      "text/plain": [
       "<__main__.Node at 0x168920adcd0>"
      ]
     },
     "execution_count": 9,
     "metadata": {},
     "output_type": "execute_result"
    }
   ],
   "source": [
    "temp1.next.next"
   ]
  },
  {
   "cell_type": "markdown",
   "id": "72ab800c",
   "metadata": {},
   "source": [
    "## Traverse a linked list"
   ]
  },
  {
   "cell_type": "code",
   "execution_count": 32,
   "id": "db55555a",
   "metadata": {},
   "outputs": [
    {
     "name": "stdout",
     "output_type": "stream",
     "text": [
      "10\n",
      "20\n",
      "30\n"
     ]
    }
   ],
   "source": [
    "def traverse_list(head):\n",
    "    n = head\n",
    "    while n.next:\n",
    "        print(n.k)\n",
    "        n = n.next\n",
    "    print(n.k)\n",
    "traverse_list(temp1)"
   ]
  },
  {
   "cell_type": "markdown",
   "id": "2a231216",
   "metadata": {},
   "source": [
    "## Find an element in a list"
   ]
  },
  {
   "cell_type": "code",
   "execution_count": 17,
   "id": "b5fd2043",
   "metadata": {},
   "outputs": [
    {
     "name": "stdout",
     "output_type": "stream",
     "text": [
      "Found at 1\n",
      "Found at 2\n",
      "Not Found\n"
     ]
    }
   ],
   "source": [
    "def find_element(x):\n",
    "    n = temp1\n",
    "    pointer = 1\n",
    "    while n.next:\n",
    "        if n.k == x:\n",
    "            return f\"Found at {pointer}\"\n",
    "        pointer += 1\n",
    "        n = n.next\n",
    "    return \"Not Found\"\n",
    "\n",
    "print(find_element(10))\n",
    "print(find_element(20))\n",
    "print(find_element(100))"
   ]
  },
  {
   "cell_type": "code",
   "execution_count": 19,
   "id": "94b85e2b",
   "metadata": {},
   "outputs": [
    {
     "name": "stdout",
     "output_type": "stream",
     "text": [
      "Found at 1\n",
      "Found at 2\n",
      "Not Found\n"
     ]
    }
   ],
   "source": [
    "def search(head, x):\n",
    "    n = head\n",
    "    pointer = 1\n",
    "    while n.next:\n",
    "        if n.k == x:\n",
    "            return f\"Found at {pointer}\"\n",
    "        pointer += 1\n",
    "        n = n.next\n",
    "    return \"Not Found\"\n",
    "\n",
    "print(search(temp1, 10))\n",
    "print(search(temp1, 20))\n",
    "print(search(temp1, 100))"
   ]
  },
  {
   "cell_type": "markdown",
   "id": "9c47381a",
   "metadata": {},
   "source": [
    "## Insert a node at beginning"
   ]
  },
  {
   "cell_type": "code",
   "execution_count": 33,
   "id": "1708f2b7",
   "metadata": {},
   "outputs": [
    {
     "name": "stdout",
     "output_type": "stream",
     "text": [
      "10\n",
      "2\n",
      "22\n"
     ]
    }
   ],
   "source": [
    "def insert_beginning(head, k):\n",
    "    new_node = Node(k)\n",
    "    new_node.next = head\n",
    "    head = new_node\n",
    "    return head\n",
    "\n",
    "    \n",
    "head = None\n",
    "head = insert_beginning(head, 22)\n",
    "head = insert_beginning(head, 2)\n",
    "head = insert_beginning(head, 10)\n",
    "traverse_list(head)"
   ]
  },
  {
   "cell_type": "markdown",
   "id": "e4eb46cc",
   "metadata": {},
   "source": [
    "## Insert a Node at end"
   ]
  },
  {
   "cell_type": "code",
   "execution_count": 100,
   "id": "b06792e8",
   "metadata": {},
   "outputs": [
    {
     "name": "stdout",
     "output_type": "stream",
     "text": [
      "%%22\n",
      "%%22\n",
      "22\n",
      "2\n",
      "10\n"
     ]
    }
   ],
   "source": [
    "def insert_at_end(head, k):\n",
    "    new_node = Node(k)\n",
    "    if not head:\n",
    "        return new_node\n",
    "    curr = head\n",
    "    while curr.next:\n",
    "        curr = curr.next\n",
    "    curr.next = new_node\n",
    "    print(\"%%\" + str(head.k))\n",
    "    return head\n",
    "head = None\n",
    "head = insert_at_end(head, 22)\n",
    "head = insert_at_end(head, 2)\n",
    "head = insert_at_end(head, 10)\n",
    "traverse_list(head)\n"
   ]
  },
  {
   "cell_type": "code",
   "execution_count": 99,
   "id": "755f8231",
   "metadata": {},
   "outputs": [
    {
     "ename": "AttributeError",
     "evalue": "'NoneType' object has no attribute 'k'",
     "output_type": "error",
     "traceback": [
      "\u001b[1;31m---------------------------------------------------------------------------\u001b[0m",
      "\u001b[1;31mAttributeError\u001b[0m                            Traceback (most recent call last)",
      "\u001b[1;32m<ipython-input-99-37c24dc30173>\u001b[0m in \u001b[0;36m<module>\u001b[1;34m\u001b[0m\n\u001b[1;32m----> 1\u001b[1;33m \u001b[0mhead\u001b[0m\u001b[1;33m.\u001b[0m\u001b[0mk\u001b[0m\u001b[1;33m\u001b[0m\u001b[1;33m\u001b[0m\u001b[0m\n\u001b[0m",
      "\u001b[1;31mAttributeError\u001b[0m: 'NoneType' object has no attribute 'k'"
     ]
    }
   ],
   "source": [
    "head.k"
   ]
  },
  {
   "cell_type": "markdown",
   "id": "35c687b7",
   "metadata": {},
   "source": [
    "## Insert Node at a given position"
   ]
  },
  {
   "cell_type": "code",
   "execution_count": 121,
   "id": "a7f39ce2",
   "metadata": {},
   "outputs": [
    {
     "name": "stdout",
     "output_type": "stream",
     "text": [
      "ffoiuiuf1727722\n",
      "ffoiuiuf1727722\n",
      "ffiuiuoiuiuf1727722\n",
      "ffiuiuoiuiuf1727722\n",
      "ffiuiuoiuiuf1727722\n",
      "ffiuiuoiuiuf1727722\n",
      "ffiui22\n",
      "ffiuiuoiuiuf1727722\n",
      "ffiui22\n",
      "ffiuiuoiuiuf1727722\n",
      "ffiuiuoiuiuf1727722\n",
      "ffiuiuoiuiuf1727722\n",
      "ffoiuiuf1727722\n",
      "22\n",
      "ffoiuiuf1727722\n",
      "ffoiuiuf1727722\n",
      "2\n",
      "10\n"
     ]
    }
   ],
   "source": [
    "def insert_at_pos(head, pos, k):\n",
    "    new_node = Node(k)\n",
    "    ptr = 1\n",
    "    curr = head\n",
    "    while curr.next:\n",
    "        if pos == 1:\n",
    "            new_node.next = head\n",
    "            return new_node\n",
    "        elif ptr == pos:\n",
    "            new_node.next = previous.next\n",
    "            previous.next = new_node\n",
    "            return head\n",
    "        previous = curr\n",
    "        ptr += 1\n",
    "        curr = curr.next\n",
    "    if pos > ptr:\n",
    "        print(\"Not Possible\")\n",
    "        return head\n",
    "    \n",
    "head = insert_at_pos(head, 7, \"ffiui22\")\n",
    "traverse_list(head)"
   ]
  },
  {
   "cell_type": "code",
   "execution_count": 123,
   "id": "5aed486d",
   "metadata": {},
   "outputs": [],
   "source": [
    "def delete_node_at_pos(head, pos):\n",
    "    ptr = 1\n",
    "    curr = head\n",
    "    while curr.next:\n",
    "        if pos == 1:\n",
    "            head = curr.next\n",
    "            curr.next = None\n",
    "            return head\n",
    "        elif ptr == pos:\n",
    "            previous.next = curr.next\n",
    "            return head\n",
    "        previous = curr\n",
    "        ptr += 1\n",
    "        curr = curr.next\n",
    "    if pos > ptr:\n",
    "        print(\"Not Possible\")\n",
    "        return head"
   ]
  },
  {
   "cell_type": "code",
   "execution_count": 122,
   "id": "b1635c26",
   "metadata": {},
   "outputs": [
    {
     "name": "stdout",
     "output_type": "stream",
     "text": [
      "ffoiuiuf1727722\n",
      "ffoiuiuf1727722\n",
      "ffiuiuoiuiuf1727722\n",
      "ffiuiuoiuiuf1727722\n",
      "ffiuiuoiuiuf1727722\n",
      "ffiuiuoiuiuf1727722\n",
      "ffiui22\n",
      "ffiuiuoiuiuf1727722\n",
      "ffiui22\n",
      "ffiuiuoiuiuf1727722\n",
      "ffiuiuoiuiuf1727722\n",
      "ffiuiuoiuiuf1727722\n",
      "ffoiuiuf1727722\n",
      "22\n",
      "ffoiuiuf1727722\n",
      "ffoiuiuf1727722\n",
      "2\n",
      "10\n"
     ]
    }
   ],
   "source": [
    "traverse_list(head)"
   ]
  },
  {
   "cell_type": "code",
   "execution_count": 141,
   "id": "e5dba0f8",
   "metadata": {},
   "outputs": [],
   "source": [
    "head = delete_node_at_pos(head, 6)"
   ]
  },
  {
   "cell_type": "code",
   "execution_count": 142,
   "id": "8db9190d",
   "metadata": {},
   "outputs": [
    {
     "name": "stdout",
     "output_type": "stream",
     "text": [
      "ffiuiuoiuiuf1727722\n",
      "ffiuiuoiuiuf1727722\n",
      "ffiuiuoiuiuf1727722\n",
      "ffiuiuoiuiuf1727722\n",
      "ffiuiuoiuiuf1727722\n",
      "22\n",
      "ffoiuiuf1727722\n",
      "ffoiuiuf1727722\n",
      "2\n",
      "10\n"
     ]
    }
   ],
   "source": [
    "traverse_list(head)"
   ]
  },
  {
   "cell_type": "markdown",
   "id": "ed46bea6",
   "metadata": {},
   "source": [
    "## Sorted insert"
   ]
  },
  {
   "cell_type": "code",
   "execution_count": 157,
   "id": "03c27e33",
   "metadata": {},
   "outputs": [],
   "source": [
    "def insert_sorted(head, k):\n",
    "    new_node = Node(k)\n",
    "    if head.k >= k:\n",
    "        new_node.next = head\n",
    "        return new_node\n",
    "    curr = head\n",
    "    while curr.next:\n",
    "        if curr.k < k <= curr.next.k:\n",
    "            new_node.next = curr.next\n",
    "            curr.next = new_node\n",
    "            return head\n",
    "        curr = curr.next\n",
    "    curr.next = new_node\n",
    "    return head\n",
    "    \n"
   ]
  },
  {
   "cell_type": "code",
   "execution_count": 169,
   "id": "b14f2545",
   "metadata": {},
   "outputs": [
    {
     "name": "stdout",
     "output_type": "stream",
     "text": [
      "%%10\n",
      "%%10\n",
      "10\n",
      "20\n",
      "30\n"
     ]
    }
   ],
   "source": [
    "head = None\n",
    "head = insert_at_end(head, 10)\n",
    "head = insert_at_end(head, 20)\n",
    "head = insert_at_end(head, 30)\n",
    "traverse_list(head)"
   ]
  },
  {
   "cell_type": "code",
   "execution_count": 172,
   "id": "7e7bd123",
   "metadata": {},
   "outputs": [
    {
     "name": "stdout",
     "output_type": "stream",
     "text": [
      "2\n",
      "6\n",
      "10\n",
      "20\n",
      "26\n",
      "30\n"
     ]
    }
   ],
   "source": [
    "head = insert_sorted(head, 6)\n",
    "traverse_list(head)"
   ]
  },
  {
   "cell_type": "markdown",
   "id": "bc5e0f8e",
   "metadata": {},
   "source": [
    "## Reverse a Linked List"
   ]
  },
  {
   "cell_type": "code",
   "execution_count": 180,
   "id": "5b7ebbb1",
   "metadata": {},
   "outputs": [],
   "source": [
    "def reverse_linked_list(head):\n",
    "    stack = []\n",
    "    curr = head\n",
    "    while curr.next:\n",
    "        stack.append(curr.k)\n",
    "        curr = curr.next\n",
    "    curr = head\n",
    "    while curr.next:\n",
    "        curr.k = stack.pop()\n",
    "        curr = curr.next\n",
    "    return head\n",
    "        \n",
    "        \n",
    "        \n",
    "        \n",
    "        \n",
    "    "
   ]
  },
  {
   "cell_type": "code",
   "execution_count": 181,
   "id": "9931d227",
   "metadata": {},
   "outputs": [
    {
     "data": {
      "text/plain": [
       "<__main__.Node at 0x16893d986d0>"
      ]
     },
     "execution_count": 181,
     "metadata": {},
     "output_type": "execute_result"
    }
   ],
   "source": [
    "reverse_linked_list(head)"
   ]
  },
  {
   "cell_type": "code",
   "execution_count": 182,
   "id": "b0210281",
   "metadata": {},
   "outputs": [
    {
     "name": "stdout",
     "output_type": "stream",
     "text": [
      "26\n",
      "20\n",
      "10\n",
      "6\n",
      "2\n",
      "30\n"
     ]
    }
   ],
   "source": [
    "traverse_list(head)"
   ]
  },
  {
   "cell_type": "markdown",
   "id": "ee487dbb",
   "metadata": {},
   "source": [
    "## "
   ]
  }
 ],
 "metadata": {
  "kernelspec": {
   "display_name": "Python 3",
   "language": "python",
   "name": "python3"
  },
  "language_info": {
   "codemirror_mode": {
    "name": "ipython",
    "version": 3
   },
   "file_extension": ".py",
   "mimetype": "text/x-python",
   "name": "python",
   "nbconvert_exporter": "python",
   "pygments_lexer": "ipython3",
   "version": "3.8.8"
  }
 },
 "nbformat": 4,
 "nbformat_minor": 5
}
