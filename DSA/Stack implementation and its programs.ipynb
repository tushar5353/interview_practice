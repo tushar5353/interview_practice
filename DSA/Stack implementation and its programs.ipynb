{
 "cells": [
  {
   "cell_type": "markdown",
   "id": "4a51920f",
   "metadata": {},
   "source": [
    "## Implementation using LinkedList"
   ]
  },
  {
   "cell_type": "code",
   "execution_count": 34,
   "id": "36b07e84",
   "metadata": {},
   "outputs": [],
   "source": [
    "import math\n",
    "\n",
    "class Node:\n",
    "    def __init__(self, k):\n",
    "        self.k = k\n",
    "        self.next = None\n",
    "\n",
    "class Stack:\n",
    "    def __init__(self):\n",
    "        self.size = 0\n",
    "        self.head = None\n",
    "        \n",
    "    def push(self, item):\n",
    "        self.size += 1\n",
    "        new_node = Node(item)\n",
    "        new_node.next = self.head\n",
    "        self.head = new_node\n",
    "    \n",
    "    def pop(self):\n",
    "        if not self.head:\n",
    "            return \"Empty\"\n",
    "        popped_item = self.head.k\n",
    "        self.head = self.head.next\n",
    "        self.size -= 1\n",
    "        return popped_item \n",
    "    \n",
    "    def peek(self):\n",
    "        if not self.head:\n",
    "            return math.inf\n",
    "        return self.head.k"
   ]
  },
  {
   "cell_type": "code",
   "execution_count": 35,
   "id": "3cfe0964",
   "metadata": {},
   "outputs": [],
   "source": [
    "s = Stack()"
   ]
  },
  {
   "cell_type": "code",
   "execution_count": 38,
   "id": "8c6a8c32",
   "metadata": {},
   "outputs": [],
   "source": [
    "s.push(32)"
   ]
  },
  {
   "cell_type": "code",
   "execution_count": 45,
   "id": "7fef2190",
   "metadata": {},
   "outputs": [
    {
     "data": {
      "text/plain": [
       "inf"
      ]
     },
     "execution_count": 45,
     "metadata": {},
     "output_type": "execute_result"
    }
   ],
   "source": [
    "s.peek()"
   ]
  },
  {
   "cell_type": "markdown",
   "id": "45401b41",
   "metadata": {},
   "source": [
    "## Check if paranthesis are balanced or not"
   ]
  },
  {
   "cell_type": "code",
   "execution_count": 60,
   "id": "2b29d179",
   "metadata": {},
   "outputs": [
    {
     "data": {
      "text/plain": [
       "True"
      ]
     },
     "execution_count": 60,
     "metadata": {},
     "output_type": "execute_result"
    }
   ],
   "source": [
    "def is_paranthesis_balanced(expr):\n",
    "    stack = []\n",
    "    for i in expr:\n",
    "        if i in [\"(\", \"[\", \"{\"]:\n",
    "            stack.append(i)\n",
    "        else:\n",
    "            if not stack:\n",
    "                return False\n",
    "            elif not is_matching(stack[-1], i):\n",
    "                return False\n",
    "            else:\n",
    "                stack.pop()\n",
    "    if stack:\n",
    "        return False\n",
    "    else:\n",
    "        return True\n",
    "        \n",
    "def is_matching(_open, _close):\n",
    "    if (_open == \"(\" and _close == \")\") or\\\n",
    "       (_open == \"{\" and _close == \"}\") or\\\n",
    "       (_open == \"[\" and _close == \"]\"):\n",
    "        return True\n",
    "    else:\n",
    "        return False\n",
    "    \n",
    "expr = \"(())\"\n",
    "is_paranthesis_balanced(expr)"
   ]
  },
  {
   "cell_type": "code",
   "execution_count": null,
   "id": "680e6dc5",
   "metadata": {},
   "outputs": [],
   "source": []
  }
 ],
 "metadata": {
  "kernelspec": {
   "display_name": "Python 3",
   "language": "python",
   "name": "python3"
  },
  "language_info": {
   "codemirror_mode": {
    "name": "ipython",
    "version": 3
   },
   "file_extension": ".py",
   "mimetype": "text/x-python",
   "name": "python",
   "nbconvert_exporter": "python",
   "pygments_lexer": "ipython3",
   "version": "3.8.8"
  }
 },
 "nbformat": 4,
 "nbformat_minor": 5
}
