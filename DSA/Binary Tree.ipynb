{
 "cells": [
  {
   "cell_type": "code",
   "execution_count": 1,
   "id": "771bd266",
   "metadata": {},
   "outputs": [],
   "source": [
    "class Node:\n",
    "    def __init__(self, k):\n",
    "        self.left = None\n",
    "        self.right = None\n",
    "        self.k = k"
   ]
  },
  {
   "cell_type": "code",
   "execution_count": 2,
   "id": "0480a6d3",
   "metadata": {},
   "outputs": [],
   "source": [
    "root = Node(20)\n",
    "root.left = Node(10)\n",
    "root.right = Node(30)\n",
    "root.left.left = Node(40)\n",
    "root.left.right = Node(50)"
   ]
  },
  {
   "cell_type": "markdown",
   "id": "ab52486c",
   "metadata": {},
   "source": [
    "## Inorder traversal(Left - Root - Right)\n",
    "\n",
    "Recursively call the function until root becomes None."
   ]
  },
  {
   "cell_type": "code",
   "execution_count": 3,
   "id": "945b6e83",
   "metadata": {},
   "outputs": [],
   "source": [
    "def traverse_inorder(root):\n",
    "    if root:\n",
    "        traverse_inorder(root.left)\n",
    "        print(root.k)\n",
    "        traverse_inorder(root.right)\n",
    "        "
   ]
  },
  {
   "cell_type": "code",
   "execution_count": 4,
   "id": "95995dd9",
   "metadata": {},
   "outputs": [
    {
     "name": "stdout",
     "output_type": "stream",
     "text": [
      "40\n",
      "10\n",
      "50\n",
      "20\n",
      "30\n"
     ]
    }
   ],
   "source": [
    "traverse_inorder(root)"
   ]
  },
  {
   "cell_type": "markdown",
   "id": "9d79731d",
   "metadata": {},
   "source": [
    "## Preorder traversal(Root - Left - Right)"
   ]
  },
  {
   "cell_type": "code",
   "execution_count": 5,
   "id": "2f45da12",
   "metadata": {},
   "outputs": [],
   "source": [
    "def traverse_preorder(root):\n",
    "    if root:\n",
    "        print(root.k)\n",
    "        traverse_preorder(root.left)\n",
    "        traverse_preorder(root.right)"
   ]
  },
  {
   "cell_type": "code",
   "execution_count": 7,
   "id": "2395ae6e",
   "metadata": {},
   "outputs": [
    {
     "name": "stdout",
     "output_type": "stream",
     "text": [
      "20\n",
      "10\n",
      "40\n",
      "50\n",
      "30\n"
     ]
    }
   ],
   "source": [
    "traverse_preorder(root)"
   ]
  },
  {
   "cell_type": "code",
   "execution_count": 63,
   "id": "967926f9",
   "metadata": {},
   "outputs": [],
   "source": [
    "def traverse_preorder_(root):\n",
    "    if not root:\n",
    "        return []\n",
    "    else:\n",
    "        return  [root.k] + traverse_preorder_(root.left) + traverse_preorder_(root.right)"
   ]
  },
  {
   "cell_type": "code",
   "execution_count": 64,
   "id": "c5cf44b1",
   "metadata": {},
   "outputs": [
    {
     "data": {
      "text/plain": [
       "[20, 10, 40, 50, 30]"
      ]
     },
     "execution_count": 64,
     "metadata": {},
     "output_type": "execute_result"
    }
   ],
   "source": [
    "traverse_preorder_(root)"
   ]
  },
  {
   "cell_type": "markdown",
   "id": "9b4565f4",
   "metadata": {},
   "source": [
    "## Postorder traversal(Left - Right - Root)"
   ]
  },
  {
   "cell_type": "code",
   "execution_count": 8,
   "id": "98fd8cf4",
   "metadata": {},
   "outputs": [],
   "source": [
    "def traverse_postorder(root):\n",
    "    if root:\n",
    "        traverse_postorder(root.left)\n",
    "        traverse_postorder(root.right)\n",
    "        print(root.k)"
   ]
  },
  {
   "cell_type": "code",
   "execution_count": 9,
   "id": "87a7e3da",
   "metadata": {},
   "outputs": [
    {
     "name": "stdout",
     "output_type": "stream",
     "text": [
      "40\n",
      "50\n",
      "10\n",
      "30\n",
      "20\n"
     ]
    }
   ],
   "source": [
    "traverse_postorder(root)"
   ]
  },
  {
   "cell_type": "code",
   "execution_count": 56,
   "id": "5ca8c2c1",
   "metadata": {},
   "outputs": [],
   "source": [
    "def traverse_postorder_(root):\n",
    "    if not root:\n",
    "        return []\n",
    "    else:\n",
    "        return traverse_postorder_(root.left) + traverse_postorder_(root.right) + [root.k]"
   ]
  },
  {
   "cell_type": "code",
   "execution_count": 57,
   "id": "7e54cbb9",
   "metadata": {},
   "outputs": [
    {
     "data": {
      "text/plain": [
       "[40, 50, 10, 30, 20]"
      ]
     },
     "execution_count": 57,
     "metadata": {},
     "output_type": "execute_result"
    }
   ],
   "source": [
    "traverse_postorder_(root)"
   ]
  },
  {
   "cell_type": "markdown",
   "id": "e0d3da6b",
   "metadata": {},
   "source": [
    "## Size of Tree"
   ]
  },
  {
   "cell_type": "code",
   "execution_count": 15,
   "id": "4bd675f5",
   "metadata": {},
   "outputs": [],
   "source": [
    "def get_tree_size(root):\n",
    "    if not root:\n",
    "        return 0\n",
    "    else:\n",
    "        ls = get_tree_size(root.left)\n",
    "        rs = get_tree_size(root.right)\n",
    "        return ls + rs + 1\n"
   ]
  },
  {
   "cell_type": "code",
   "execution_count": 16,
   "id": "6c6eaf23",
   "metadata": {},
   "outputs": [
    {
     "data": {
      "text/plain": [
       "5"
      ]
     },
     "execution_count": 16,
     "metadata": {},
     "output_type": "execute_result"
    }
   ],
   "source": [
    "get_tree_size(root)"
   ]
  },
  {
   "cell_type": "markdown",
   "id": "9b117e23",
   "metadata": {},
   "source": [
    "## Max in binary tree"
   ]
  },
  {
   "cell_type": "code",
   "execution_count": 17,
   "id": "aee9791b",
   "metadata": {},
   "outputs": [],
   "source": [
    "import math\n",
    "\n",
    "def get_max(root):\n",
    "    if not root:\n",
    "        return -math.inf\n",
    "    else:\n",
    "        ls = get_max(root.left)\n",
    "        rs = get_max(root.right)\n",
    "        return max(ls, rs, root.k)"
   ]
  },
  {
   "cell_type": "code",
   "execution_count": 18,
   "id": "93d6eada",
   "metadata": {},
   "outputs": [
    {
     "data": {
      "text/plain": [
       "50"
      ]
     },
     "execution_count": 18,
     "metadata": {},
     "output_type": "execute_result"
    }
   ],
   "source": [
    "get_max(root)"
   ]
  },
  {
   "cell_type": "markdown",
   "id": "8ff6be80",
   "metadata": {},
   "source": [
    "## Search in binary tree"
   ]
  },
  {
   "cell_type": "code",
   "execution_count": 19,
   "id": "391523a1",
   "metadata": {},
   "outputs": [],
   "source": [
    "def search(root, data):\n",
    "    if not root:\n",
    "        return False\n",
    "    elif root.k == data:\n",
    "        return True\n",
    "    elif search(root.left, data) == True:\n",
    "        return True\n",
    "    else:\n",
    "        return search(root.right, data) == True"
   ]
  },
  {
   "cell_type": "code",
   "execution_count": 23,
   "id": "df107be4",
   "metadata": {},
   "outputs": [
    {
     "data": {
      "text/plain": [
       "True"
      ]
     },
     "execution_count": 23,
     "metadata": {},
     "output_type": "execute_result"
    }
   ],
   "source": [
    "search(root, 10)"
   ]
  },
  {
   "cell_type": "markdown",
   "id": "c10d3629",
   "metadata": {},
   "source": [
    "## Height of a binary tree"
   ]
  },
  {
   "cell_type": "code",
   "execution_count": 24,
   "id": "ff41a386",
   "metadata": {},
   "outputs": [],
   "source": [
    "def height(root):\n",
    "    if not root:\n",
    "        return 0\n",
    "    else:\n",
    "        ls = height(root.left)\n",
    "        rs = height(root.right)\n",
    "        return max(ls, rs) + 1"
   ]
  },
  {
   "cell_type": "code",
   "execution_count": 25,
   "id": "4b2e4b0a",
   "metadata": {},
   "outputs": [
    {
     "data": {
      "text/plain": [
       "3"
      ]
     },
     "execution_count": 25,
     "metadata": {},
     "output_type": "execute_result"
    }
   ],
   "source": [
    "height(root)"
   ]
  },
  {
   "cell_type": "markdown",
   "id": "57eb3a33",
   "metadata": {},
   "source": [
    "## Inorder Traversal(Left - Root - Right) - Iterative\n",
    "\n",
    "* Traverse all the left nodes and put it in a stack\n",
    "* pop the stack and print the data\n",
    "* Now try to traverse the right of the tree and append it to stack"
   ]
  },
  {
   "cell_type": "code",
   "execution_count": 48,
   "id": "5bc30bd2",
   "metadata": {},
   "outputs": [],
   "source": [
    "def iterative_inorder(root):\n",
    "    curr = root\n",
    "    stack = []\n",
    "    while curr:\n",
    "        stack.append(curr)\n",
    "        curr = curr.left\n",
    "    while len(stack):\n",
    "        curr = stack.pop()\n",
    "        print(curr.k)\n",
    "        curr = curr.right\n",
    "        while curr:\n",
    "            stack.append(curr)\n",
    "            curr = curr.left"
   ]
  },
  {
   "cell_type": "code",
   "execution_count": 49,
   "id": "521c0889",
   "metadata": {},
   "outputs": [
    {
     "name": "stdout",
     "output_type": "stream",
     "text": [
      "40\n",
      "10\n",
      "50\n",
      "20\n",
      "30\n"
     ]
    }
   ],
   "source": [
    "iterative_inorder(root)\n",
    "\n",
    "# print(root.k)"
   ]
  },
  {
   "cell_type": "markdown",
   "id": "8e6e2dca",
   "metadata": {},
   "source": [
    "## Preorder traversal(Root - Left - Right) - Iterative"
   ]
  },
  {
   "cell_type": "code",
   "execution_count": 36,
   "id": "cf90a6c9",
   "metadata": {},
   "outputs": [],
   "source": [
    "def iterative_preorder(root):\n",
    "    if not root:\n",
    "        return None\n",
    "    stack = [root]\n",
    "    while len(stack):\n",
    "        curr = stack.pop()\n",
    "        print(curr.k)\n",
    "        if curr.right:\n",
    "            stack.append(curr.right)\n",
    "        if curr.left:\n",
    "            stack.append(curr.left)"
   ]
  },
  {
   "cell_type": "code",
   "execution_count": 37,
   "id": "1b0f13f1",
   "metadata": {},
   "outputs": [
    {
     "name": "stdout",
     "output_type": "stream",
     "text": [
      "20\n",
      "10\n",
      "40\n",
      "50\n",
      "30\n"
     ]
    }
   ],
   "source": [
    "iterative_preorder(root)"
   ]
  },
  {
   "cell_type": "markdown",
   "id": "e590c5b4",
   "metadata": {},
   "source": [
    "## Level Order traversal"
   ]
  },
  {
   "cell_type": "code",
   "execution_count": 42,
   "id": "3c1ee435",
   "metadata": {},
   "outputs": [],
   "source": [
    "from collections import deque"
   ]
  },
  {
   "cell_type": "code",
   "execution_count": 46,
   "id": "401fe12a",
   "metadata": {},
   "outputs": [],
   "source": [
    "def level_order(root):\n",
    "    if not root:\n",
    "        return None\n",
    "    q = deque()\n",
    "    q.append(root)\n",
    "    while len(q):\n",
    "        curr = q.popleft()\n",
    "        print(curr.k)\n",
    "        if curr.left:\n",
    "            q.append(curr.left)\n",
    "        if curr.right:\n",
    "            q.append(curr.right)"
   ]
  },
  {
   "cell_type": "code",
   "execution_count": 47,
   "id": "608b5121",
   "metadata": {},
   "outputs": [
    {
     "name": "stdout",
     "output_type": "stream",
     "text": [
      "20\n",
      "10\n",
      "30\n",
      "40\n",
      "50\n"
     ]
    }
   ],
   "source": [
    "level_order(root)"
   ]
  }
 ],
 "metadata": {
  "kernelspec": {
   "display_name": "Python 3",
   "language": "python",
   "name": "python3"
  },
  "language_info": {
   "codemirror_mode": {
    "name": "ipython",
    "version": 3
   },
   "file_extension": ".py",
   "mimetype": "text/x-python",
   "name": "python",
   "nbconvert_exporter": "python",
   "pygments_lexer": "ipython3",
   "version": "3.8.8"
  }
 },
 "nbformat": 4,
 "nbformat_minor": 5
}
