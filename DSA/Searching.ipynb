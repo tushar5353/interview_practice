{
 "cells": [
  {
   "cell_type": "markdown",
   "id": "d9b8ffcd",
   "metadata": {},
   "source": [
    "## Binary Search\n",
    "\n",
    "### Iterative\n",
    "\n",
    "Write a program to return the index the element in a sorted list else return -1\n",
    "\n",
    "Steps:\n",
    "* Initiate low = 0 and high = index of last element\n",
    "* Iterate until low <= high\n",
    "* Initiate mid = (low + high)/2 for every iteration\n",
    "  - if element == element at mid index then return the index\n",
    "  - if element > element at mid index then refresh low = mid + 1\n",
    "  - if element < element at mid index then refresh high = mid - 1"
   ]
  },
  {
   "cell_type": "code",
   "execution_count": 5,
   "id": "fc4dafa4",
   "metadata": {},
   "outputs": [],
   "source": [
    "def binary_search(list_, element):\n",
    "    low = 0\n",
    "    high = len(list_) - 1\n",
    "    while low <= high:\n",
    "        mid = (low + high)//2\n",
    "        if element == list_[mid]:\n",
    "            return mid\n",
    "        elif element > list_[mid]:\n",
    "            low = mid + 1\n",
    "        else:\n",
    "            high = mid - 1\n",
    "    return -1"
   ]
  },
  {
   "cell_type": "code",
   "execution_count": 8,
   "id": "bc094849",
   "metadata": {},
   "outputs": [
    {
     "data": {
      "text/plain": [
       "2"
      ]
     },
     "execution_count": 8,
     "metadata": {},
     "output_type": "execute_result"
    }
   ],
   "source": [
    "binary_search([1,2,33,44,5,66],33)"
   ]
  },
  {
   "cell_type": "markdown",
   "id": "9ec38353",
   "metadata": {},
   "source": [
    "**Find the Occurance of first element in a list</BR>**\n",
    "Give a sorted list find the index of first element in that list if not found then return -1, Please note that list is sorted and elements can repeat"
   ]
  },
  {
   "cell_type": "code",
   "execution_count": 26,
   "id": "a68cb823",
   "metadata": {},
   "outputs": [],
   "source": [
    "def find_first(list_, element):\n",
    "    low = 0\n",
    "    high = len(list_) - 1\n",
    "    while low <= high:\n",
    "        mid = (low + high)//2\n",
    "        if element < list_[mid]:\n",
    "            high = mid - 1\n",
    "        elif element > list_[mid]:\n",
    "            low = mid + 1\n",
    "        else:\n",
    "            if mid==0 or list_[mid-1] != list_[mid]:\n",
    "                return mid\n",
    "            else:\n",
    "                high = mid - 1\n",
    "    return -1"
   ]
  },
  {
   "cell_type": "code",
   "execution_count": 27,
   "id": "907303f3",
   "metadata": {},
   "outputs": [
    {
     "data": {
      "text/plain": [
       "4"
      ]
     },
     "execution_count": 27,
     "metadata": {},
     "output_type": "execute_result"
    }
   ],
   "source": [
    "find_first([1,1,10,20,30,30],30)"
   ]
  },
  {
   "cell_type": "code",
   "execution_count": 46,
   "id": "1dbd7507",
   "metadata": {},
   "outputs": [],
   "source": [
    "def find_last(list_, element):\n",
    "    low = 0\n",
    "    high = len(list_) - 1\n",
    "    while low <= high:\n",
    "        mid = (low + high)//2\n",
    "        print(low, high, mid)\n",
    "        if element < list_[mid]:\n",
    "            high = mid - 1\n",
    "        elif element > list_[mid]:\n",
    "            low = mid + 1\n",
    "        else:\n",
    "            if mid==len(list_)-1 or list_[mid] != list_[mid+1]:\n",
    "                return mid\n",
    "            else:\n",
    "                low = mid + 1\n",
    "    return -1"
   ]
  },
  {
   "cell_type": "code",
   "execution_count": 47,
   "id": "4677ac6f",
   "metadata": {},
   "outputs": [
    {
     "name": "stdout",
     "output_type": "stream",
     "text": [
      "0 5 2\n",
      "0 1 0\n",
      "1 1 1\n"
     ]
    },
    {
     "data": {
      "text/plain": [
       "1"
      ]
     },
     "execution_count": 47,
     "metadata": {},
     "output_type": "execute_result"
    }
   ],
   "source": [
    "find_last([1,1,10,20,30,30],1)"
   ]
  },
  {
   "cell_type": "code",
   "execution_count": 61,
   "id": "a253acb3",
   "metadata": {},
   "outputs": [],
   "source": [
    "x = \"\"\"bz\n",
    "pp\n",
    "sb\n",
    "pr\n",
    "ob\n",
    "gs\n",
    "gb\n",
    "ga\n",
    "pp\n",
    "fc\n",
    "ch\n",
    "fb\n",
    "gc\n",
    "ld\n",
    "cl\n",
    "ca\n",
    "cr\n",
    "sb\n",
    "za\"\"\"\n",
    "x = set(x.split(\"\\n\"))"
   ]
  },
  {
   "cell_type": "code",
   "execution_count": 63,
   "id": "c5d12188",
   "metadata": {},
   "outputs": [
    {
     "data": {
      "text/plain": [
       "{'cl': 'http://tr-lcg-bingointegrationservice.ivycomptech.co.in/bis/',\n",
       " 'ld': 'http://tr-lcg-bingointegrationservice.ivycomptech.co.in/bis/',\n",
       " 'fb': 'http://tr-bingointegrationservice.ivycomptech.co.in/bis/',\n",
       " 'ch': 'http://tr-bingointegrationservice.ivycomptech.co.in/bis/',\n",
       " 'ds': 'http://tr-bingointegrationservice.ivycomptech.co.in/bis/',\n",
       " 'sb': 'http://tr-bingointegrationservice.ivycomptech.co.in/bis/',\n",
       " 'bj': 'http://tr-bingointegrationservice.ivycomptech.co.in/bis/',\n",
       " 'ob': 'http://tr-bingointegrationservice.ivycomptech.co.in/bis/',\n",
       " 'ga': 'http://tr-bingointegrationservice.ivycomptech.co.in/bis/',\n",
       " 'pp': 'http://tr-bingointegrationservice.ivycomptech.co.in/bis/',\n",
       " 'gs': 'http://tr-bingointegrationservice.ivycomptech.co.in/bis/',\n",
       " 'gc': 'http://tr-bingointegrationservice.ivycomptech.co.in/bis/',\n",
       " 'cr': 'http://tr-bingointegrationservice.ivycomptech.co.in/bis/',\n",
       " 'pr': 'http://tr-bingointegrationservice.ivycomptech.co.in/bis/',\n",
       " 'bz': 'http://tr-bingointegrationservice.ivycomptech.co.in/bis/',\n",
       " 'fc': 'http://tr-bingointegrationservice.ivycomptech.co.in/bis/',\n",
       " 'ca': 'http://tr-bingointegrationservice.ivycomptech.co.in/bis/',\n",
       " 'gb': 'http://tr-bingointegrationservice.ivycomptech.co.in/bis/',\n",
       " 'za': 'http://tr-bingointegrationservice.ivycomptech.co.in/bis/'}"
      ]
     },
     "execution_count": 63,
     "metadata": {},
     "output_type": "execute_result"
    }
   ],
   "source": [
    "\"\"\"\n",
    "site_code_to_url_mapping={\n",
    "        'cl': 'https://lcg-bis.gvcgroup.prod/bis/',\n",
    "        'ld': 'https://lcg-bis.gvcgroup.prod/bis/',\n",
    "        'fb': 'https://bis.gvcgroup.prod/bis/',\n",
    "        'ch': 'https://bis.gvcgroup.prod/bis/',\n",
    "        'ds': 'https://bis.gvcgroup.prod/bis/',\n",
    "        'sb': 'https://bis.gvcgroup.prod/bis/',\n",
    "        'bj': 'https://bis.gvcgroup.prod/bis/',\n",
    "        'ob': 'https://bis.gvcgroup.prod/bis/',\n",
    "        'ga': 'https://bis.gvcgroup.prod/bis/',\n",
    "        'pp': 'https://bis.gvcgroup.prod/bis/',\n",
    "        'gs': 'https://bis.gvcgroup.prod/bis/'\n",
    "   }\n",
    "\"\"\"\n",
    "site_code_to_url_mapping={\n",
    "        'cl': 'http://tr-lcg-bingointegrationservice.ivycomptech.co.in/bis/',\n",
    "        'ld': 'http://tr-lcg-bingointegrationservice.ivycomptech.co.in/bis/',\n",
    "        'fb': 'http://tr-bingointegrationservice.ivycomptech.co.in/bis/',\n",
    "        'ch': 'http://tr-bingointegrationservice.ivycomptech.co.in/bis/',\n",
    "        'ds': 'http://tr-bingointegrationservice.ivycomptech.co.in/bis/',\n",
    "        'sb': 'http://tr-bingointegrationservice.ivycomptech.co.in/bis/',\n",
    "        'bj': 'http://tr-bingointegrationservice.ivycomptech.co.in/bis/',\n",
    "        'ob': 'http://tr-bingointegrationservice.ivycomptech.co.in/bis/',\n",
    "        'ga': 'http://tr-bingointegrationservice.ivycomptech.co.in/bis/',\n",
    "        'pp': 'http://tr-bingointegrationservice.ivycomptech.co.in/bis/',\n",
    "        'gs': 'http://tr-bingointegrationservice.ivycomptech.co.in/bis/',\n",
    "        'gc': 'http://tr-bingointegrationservice.ivycomptech.co.in/bis/'\n",
    "   }\n",
    "for i in x:\n",
    "    if i in site_code_to_url_mapping:\n",
    "        pass\n",
    "    else:\n",
    "        #site_code_to_url_mapping[i] = 'https://bis.gvcgroup.prod/bis/'\n",
    "        site_code_to_url_mapping[i] = 'http://tr-bingointegrationservice.ivycomptech.co.in/bis/'\n",
    "site_code_to_url_mapping"
   ]
  },
  {
   "cell_type": "code",
   "execution_count": 72,
   "id": "55527c5a",
   "metadata": {},
   "outputs": [
    {
     "data": {
      "text/plain": [
       "2315.52"
      ]
     },
     "execution_count": 72,
     "metadata": {},
     "output_type": "execute_result"
    }
   ],
   "source": [
    "(30000 + (30000*.072)) * .072"
   ]
  },
  {
   "cell_type": "code",
   "execution_count": 75,
   "id": "24e55db8",
   "metadata": {},
   "outputs": [
    {
     "data": {
      "text/plain": [
       "2482.2"
      ]
     },
     "execution_count": 75,
     "metadata": {},
     "output_type": "execute_result"
    }
   ],
   "source": [
    "(32160 + 2315) * .072"
   ]
  },
  {
   "cell_type": "code",
   "execution_count": 76,
   "id": "b501d901",
   "metadata": {},
   "outputs": [
    {
     "data": {
      "text/plain": [
       "36957.2"
      ]
     },
     "execution_count": 76,
     "metadata": {},
     "output_type": "execute_result"
    }
   ],
   "source": [
    "34475 + 2482.2"
   ]
  },
  {
   "cell_type": "code",
   "execution_count": 77,
   "id": "6899baca",
   "metadata": {},
   "outputs": [
    {
     "data": {
      "text/plain": [
       "6480.0"
      ]
     },
     "execution_count": 77,
     "metadata": {},
     "output_type": "execute_result"
    }
   ],
   "source": [
    "(30000 * 7.2 * 3)/100"
   ]
  },
  {
   "cell_type": "code",
   "execution_count": 78,
   "id": "d014a5d1",
   "metadata": {},
   "outputs": [
    {
     "data": {
      "text/plain": [
       "36957.75744000001"
      ]
     },
     "execution_count": 78,
     "metadata": {},
     "output_type": "execute_result"
    }
   ],
   "source": [
    "P = 30000\n",
    "R = 7.2\n",
    "T = 3\n",
    "CI = P * ( 1 +  R / 100)**T\n",
    "CI"
   ]
  },
  {
   "cell_type": "code",
   "execution_count": 133,
   "id": "ef4dd6b9",
   "metadata": {
    "scrolled": false
   },
   "outputs": [
    {
     "name": "stdout",
     "output_type": "stream",
     "text": [
      "Interest rate on 2022-10-01 00:00:00 - 7.2%\n",
      "Interest rate on 2023-09-01 00:00:00 - 7.1000000000000005%\n",
      "Interest rate on 2024-09-01 00:00:00 - 7.000000000000001%\n",
      "Interest rate on 2025-09-01 00:00:00 - 6.900000000000001%\n",
      "Interest rate on 2026-09-01 00:00:00 - 6.800000000000002%\n",
      "Interest rate on 2027-09-01 00:00:00 - 6.700000000000002%\n",
      "Interest rate on 2028-09-01 00:00:00 - 6.600000000000002%\n",
      "Interest rate on 2029-09-01 00:00:00 - 6.500000000000003%\n",
      "Interest rate on 2030-09-01 00:00:00 - 6.400000000000003%\n",
      "Interest rate on 2031-09-01 00:00:00 - 6.300000000000003%\n",
      "Interest rate on 2032-09-01 00:00:00 - 6.200000000000004%\n",
      "Interest rate on 2033-09-01 00:00:00 - 6.100000000000004%\n",
      "Interest rate on 2034-09-01 00:00:00 - 6.000000000000004%\n",
      "\n",
      "\n",
      "\n",
      "**********Returns**********\n"
     ]
    },
    {
     "data": {
      "text/plain": [
       "{'20251001': 37061.28051,\n",
       " '20251101': 36957.75744000001,\n",
       " '20251201': 36957.75744000001,\n",
       " '20260101': 36957.75744000001,\n",
       " '20260201': 36957.75744000001,\n",
       " '20260301': 36957.75744000001,\n",
       " '20260401': 36957.75744000001,\n",
       " '20260501': 36957.75744000001,\n",
       " '20260601': 36957.75744000001,\n",
       " '20260701': 36957.75744000001,\n",
       " '20260801': 36957.75744000001,\n",
       " '20260901': 36957.75744000001,\n",
       " '20261001': 36854.42733,\n",
       " '20261101': 36854.42733,\n",
       " '20261201': 36854.42733,\n",
       " '20270101': 36854.42733,\n",
       " '20270201': 36854.42733,\n",
       " '20270301': 36854.42733,\n",
       " '20270401': 36854.42733,\n",
       " '20270501': 36854.42733,\n",
       " '20270601': 36854.42733,\n",
       " '20270701': 36854.42733,\n",
       " '20270801': 36854.42733,\n",
       " '20270901': 36854.42733,\n",
       " '20271001': 36751.29,\n",
       " '20271101': 36751.29,\n",
       " '20271201': 36751.29,\n",
       " '20280101': 36751.29,\n",
       " '20280201': 36751.29,\n",
       " '20280301': 36751.29,\n",
       " '20280401': 36751.29,\n",
       " '20280501': 36751.29,\n",
       " '20280601': 36751.29,\n",
       " '20280701': 36751.29,\n",
       " '20280801': 36751.29,\n",
       " '20280901': 36751.29,\n",
       " '20281001': 82432.96237136351,\n",
       " '20281101': 82177.53976979587,\n",
       " '20281201': 82177.53976979587,\n",
       " '20290101': 82177.53976979587,\n",
       " '20290201': 82177.53976979587,\n",
       " '20290301': 82177.53976979587,\n",
       " '20290401': 82177.53976979587,\n",
       " '20290501': 82177.53976979587,\n",
       " '20290601': 82177.53976979587,\n",
       " '20290701': 82177.53976979587,\n",
       " '20290801': 82177.53976979587,\n",
       " '20290901': 82177.53976979587,\n",
       " '20291001': 81820.5534207417,\n",
       " '20291101': 81820.5534207417,\n",
       " '20291201': 81820.5534207417,\n",
       " '20300101': 81820.5534207417,\n",
       " '20300201': 81820.5534207417,\n",
       " '20300301': 81820.5534207417,\n",
       " '20300401': 81820.5534207417,\n",
       " '20300501': 81820.5534207417,\n",
       " '20300601': 81820.5534207417,\n",
       " '20300701': 81820.5534207417,\n",
       " '20300801': 81820.5534207417,\n",
       " '20300901': 81820.5534207417,\n",
       " '20301001': 81464.94344547001,\n",
       " '20301101': 81464.94344547001,\n",
       " '20301201': 81464.94344547001,\n",
       " '20310101': 81464.94344547001,\n",
       " '20310201': 81464.94344547001,\n",
       " '20310301': 81464.94344547001,\n",
       " '20310401': 81464.94344547001,\n",
       " '20310501': 81464.94344547001,\n",
       " '20310601': 81464.94344547001,\n",
       " '20310701': 81464.94344547001,\n",
       " '20310801': 81464.94344547001,\n",
       " '20310901': 81464.94344547001,\n",
       " '20311001': 81110.70524763771,\n",
       " '20311101': 81110.70524763771,\n",
       " '20311201': 81110.70524763771,\n",
       " '20320101': 81110.70524763771,\n",
       " '20320201': 81110.70524763771,\n",
       " '20320301': 81110.70524763771,\n",
       " '20320401': 81110.70524763771,\n",
       " '20320501': 81110.70524763771,\n",
       " '20320601': 81110.70524763771,\n",
       " '20320701': 81110.70524763771,\n",
       " '20320801': 81110.70524763771,\n",
       " '20320901': 81110.70524763771,\n",
       " '20321001': 80757.83424326673,\n",
       " '20321101': 80757.83424326673,\n",
       " '20321201': 80757.83424326673,\n",
       " '20330101': 80757.83424326673,\n",
       " '20330201': 80757.83424326673,\n",
       " '20330301': 80757.83424326673,\n",
       " '20330401': 80757.83424326673,\n",
       " '20330501': 80757.83424326673,\n",
       " '20330601': 80757.83424326673,\n",
       " '20330701': 80757.83424326673,\n",
       " '20330801': 80757.83424326673,\n",
       " '20330901': 80757.83424326673,\n",
       " '20331001': 80406.32586072071,\n",
       " '20331101': 80406.32586072071,\n",
       " '20331201': 80406.32586072071,\n",
       " '20340101': 80406.32586072071,\n",
       " '20340201': 80406.32586072071,\n",
       " '20340301': 80406.32586072071,\n",
       " '20340401': 80406.32586072071,\n",
       " '20340501': 80406.32586072071,\n",
       " '20340601': 80406.32586072071,\n",
       " '20340701': 80406.32586072071,\n",
       " '20340801': 80406.32586072071,\n",
       " '20340901': 80406.32586072071,\n",
       " '20341001': 80056.17554068219,\n",
       " '20341101': 80056.17554068219,\n",
       " '20341201': 80056.17554068219,\n",
       " '20350101': 80056.17554068219,\n",
       " '20350201': 80056.17554068219,\n",
       " '20350301': 80056.17554068219,\n",
       " '20350401': 80056.17554068219,\n",
       " '20350501': 80056.17554068219,\n",
       " '20350601': 80056.17554068219,\n",
       " '20350701': 80056.17554068219,\n",
       " '20350801': 80056.17554068219,\n",
       " '20350901': 80056.17554068219,\n",
       " '20351001': 79707.37873612922,\n",
       " '20351101': 79707.37873612922,\n",
       " '20351201': 79707.37873612922,\n",
       " '20360101': 79707.37873612922,\n",
       " '20360201': 79707.37873612922,\n",
       " '20360301': 79707.37873612922,\n",
       " '20360401': 79707.37873612922,\n",
       " '20360501': 79707.37873612922,\n",
       " '20360601': 79707.37873612922,\n",
       " '20360701': 79707.37873612922,\n",
       " '20360801': 79707.37873612922,\n",
       " '20360901': 79707.37873612922,\n",
       " '20361001': 79359.93091231263,\n",
       " '20361101': 79359.93091231263,\n",
       " '20361201': 79359.93091231263,\n",
       " '20370101': 79359.93091231263,\n",
       " '20370201': 79359.93091231263,\n",
       " '20370301': 79359.93091231263,\n",
       " '20370401': 79359.93091231263,\n",
       " '20370501': 79359.93091231263,\n",
       " '20370601': 79359.93091231263,\n",
       " '20370701': 79359.93091231263,\n",
       " '20370801': 79359.93091231263,\n",
       " '20370901': 79359.93091231263,\n",
       " '20371001': 43283.3475467328,\n",
       " '20371101': 43283.3475467328,\n",
       " '20371201': 43283.3475467328,\n",
       " '20380101': 43283.3475467328,\n",
       " '20380201': 43283.3475467328,\n",
       " '20380301': 43283.3475467328,\n",
       " '20380401': 43283.3475467328,\n",
       " '20380501': 43283.3475467328,\n",
       " '20380601': 43283.3475467328,\n",
       " '20380701': 43283.3475467328,\n",
       " '20380801': 43283.3475467328,\n",
       " '20380901': 43283.3475467328,\n",
       " '20381001': 43039.61275911684,\n",
       " '20381101': 43039.61275911684,\n",
       " '20381201': 43039.61275911684,\n",
       " '20390101': 43039.61275911684,\n",
       " '20390201': 43039.61275911684,\n",
       " '20390301': 43039.61275911684,\n",
       " '20390401': 43039.61275911684,\n",
       " '20390501': 43039.61275911684,\n",
       " '20390601': 43039.61275911684,\n",
       " '20390701': 43039.61275911684,\n",
       " '20390801': 43039.61275911684,\n",
       " '20390901': 43039.61275911684,\n",
       " '20391001': 42797.0228013954,\n",
       " '20391101': 42797.0228013954,\n",
       " '20391201': 42797.0228013954,\n",
       " '20400101': 42797.0228013954,\n",
       " '20400201': 42797.0228013954,\n",
       " '20400301': 42797.0228013954,\n",
       " '20400401': 42797.0228013954,\n",
       " '20400501': 42797.0228013954,\n",
       " '20400601': 42797.0228013954,\n",
       " '20400701': 42797.0228013954,\n",
       " '20400801': 42797.0228013954,\n",
       " '20400901': 42797.0228013954}"
      ]
     },
     "metadata": {},
     "output_type": "display_data"
    }
   ],
   "source": [
    "from datetime import datetime\n",
    "from dateutil.relativedelta import relativedelta\n",
    "from collections import defaultdict\n",
    "from collections import OrderedDict\n",
    "\n",
    "\n",
    "investing_till_months = 12*12\n",
    "date_format = '%Y-%m-%d'\n",
    "initial_start = datetime.strptime('2022-10-01', date_format)\n",
    "R = 7.3\n",
    "interest_diff_year = 0.1\n",
    "\n",
    "def final_amount():\n",
    "    return P * ( 1 +  R / 100)**T\n",
    "\n",
    "def get_future_income(start_date, time, principal, rate):\n",
    "    maturity_amount = principal * ( 1 +  rate / 100)**T\n",
    "    maturity_date = start_date + relativedelta(months=time*12)\n",
    "    return (start_date, maturity_date, maturity_amount)\n",
    "\n",
    "def get_info(info):\n",
    "    return (info[0], info[1], info[2])\n",
    "\n",
    "final = defaultdict(list)\n",
    "\n",
    "for i in range(1, investing_till_months+1):\n",
    "    start_date = initial_start\n",
    "    info1 = get_future_income(start_date, 3, 30000, R)\n",
    "    info2 = get_future_income(info1[1], 3, info1[2], R)\n",
    "    if i%12 == 0 or i==1:\n",
    "        R = R - interest_diff_year\n",
    "        print(f\"Interest rate on {start_date} - {R}%\")\n",
    "    initial_start = initial_start + relativedelta(months=1)\n",
    "    info = get_info(info1)\n",
    "    final[info[1]].append(info[2])\n",
    "    info = get_info(info2)\n",
    "    final[info[1]].append(info[2])\n",
    "\n",
    "\n",
    "final = OrderedDict(sorted(final.items()))\n",
    "final = {key.strftime(\"%Y%m%d\"): sum(value) for key, value in final.items()}\n",
    "\n",
    "print(\n",
    "f\"\"\"\\n\\n\\n{'*'*10}Returns{'*'*10}\"\"\")\n",
    "display(final)"
   ]
  },
  {
   "cell_type": "code",
   "execution_count": 134,
   "id": "49742055",
   "metadata": {},
   "outputs": [
    {
     "data": {
      "text/plain": [
       "11598897.08631958"
      ]
     },
     "execution_count": 134,
     "metadata": {},
     "output_type": "execute_result"
    }
   ],
   "source": [
    "sum(final.values())"
   ]
  }
 ],
 "metadata": {
  "kernelspec": {
   "display_name": "Python 3 (ipykernel)",
   "language": "python",
   "name": "python3"
  },
  "language_info": {
   "codemirror_mode": {
    "name": "ipython",
    "version": 3
   },
   "file_extension": ".py",
   "mimetype": "text/x-python",
   "name": "python",
   "nbconvert_exporter": "python",
   "pygments_lexer": "ipython3",
   "version": "3.8.10"
  }
 },
 "nbformat": 4,
 "nbformat_minor": 5
}
