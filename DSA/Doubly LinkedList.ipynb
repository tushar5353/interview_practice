{
 "cells": [
  {
   "cell_type": "code",
   "execution_count": 1,
   "id": "4e4c861c",
   "metadata": {},
   "outputs": [],
   "source": [
    "class Node:\n",
    "    def __init__(self, k):\n",
    "        self.k = k\n",
    "        self.previous = None\n",
    "        self.next = None"
   ]
  },
  {
   "cell_type": "code",
   "execution_count": 3,
   "id": "77ec2a8d",
   "metadata": {},
   "outputs": [],
   "source": [
    "node1 = Node(1)\n",
    "node2 = Node(2)\n",
    "node3 = Node(3)\n",
    "node1.next = node2\n",
    "node2.next = node3\n",
    "node2.previous = node1\n",
    "node3.previous = node2\n",
    "head = node1"
   ]
  },
  {
   "cell_type": "code",
   "execution_count": 17,
   "id": "87fb58b8",
   "metadata": {},
   "outputs": [
    {
     "name": "stdout",
     "output_type": "stream",
     "text": [
      "10\n"
     ]
    }
   ],
   "source": [
    "def create_dlist(k, head):\n",
    "    new_node = Node(k)\n",
    "    if not head:\n",
    "        return new_node\n",
    "    curr = head\n",
    "    while curr.next:\n",
    "        curr = curr.next\n",
    "    curr.next = new_node\n",
    "    new_node.previous = curr\n",
    "    return head\n",
    "\n",
    "head = None\n",
    "l = [10,20,30]\n",
    "for i in l:\n",
    "    head = create_dlist(i, head)\n",
    "print(head.k)"
   ]
  },
  {
   "cell_type": "code",
   "execution_count": 18,
   "id": "af66b160",
   "metadata": {},
   "outputs": [],
   "source": [
    "def traverse_list(head):\n",
    "    if not head:\n",
    "        return None\n",
    "    curr = head\n",
    "    while curr.next:\n",
    "        print(curr.k, end=\"->\")\n",
    "        curr=curr.next\n",
    "    print(curr.k, end=\"->\")\n"
   ]
  },
  {
   "cell_type": "markdown",
   "id": "9e302330",
   "metadata": {},
   "source": [
    "## Insert at beginning"
   ]
  },
  {
   "cell_type": "code",
   "execution_count": 26,
   "id": "524105d5",
   "metadata": {},
   "outputs": [],
   "source": [
    "def insert_beginning(head, k):\n",
    "    new_node = Node(k)\n",
    "    if not head:\n",
    "        return new_node\n",
    "    new_node.next = head\n",
    "    head.previous = new_node\n",
    "    return new_node"
   ]
  },
  {
   "cell_type": "code",
   "execution_count": 29,
   "id": "a631b02a",
   "metadata": {},
   "outputs": [
    {
     "name": "stdout",
     "output_type": "stream",
     "text": [
      "122->222->10->20->30->"
     ]
    }
   ],
   "source": [
    "head = insert_beginning(head, 122)\n",
    "traverse_list(head)"
   ]
  },
  {
   "cell_type": "markdown",
   "id": "2b93c157",
   "metadata": {},
   "source": [
    "## Insert at end"
   ]
  },
  {
   "cell_type": "code",
   "execution_count": 30,
   "id": "41c51168",
   "metadata": {},
   "outputs": [],
   "source": [
    "def insert_end(head, k):\n",
    "    new_node = Node(k)\n",
    "    if not head:\n",
    "        return new_node\n",
    "    curr = head\n",
    "    while curr.next:\n",
    "        curr = curr.next\n",
    "    curr.next = new_node\n",
    "    new_node.previous = curr\n",
    "    return head\n",
    "        "
   ]
  },
  {
   "cell_type": "code",
   "execution_count": 32,
   "id": "88e2052e",
   "metadata": {},
   "outputs": [
    {
     "name": "stdout",
     "output_type": "stream",
     "text": [
      "122->222->10->20->30->122->1223->"
     ]
    }
   ],
   "source": [
    "head = insert_end(head, 1223)\n",
    "traverse_list(head)"
   ]
  },
  {
   "cell_type": "code",
   "execution_count": 34,
   "id": "db9a8a1f",
   "metadata": {},
   "outputs": [
    {
     "data": {
      "text/plain": [
       "122"
      ]
     },
     "execution_count": 34,
     "metadata": {},
     "output_type": "execute_result"
    }
   ],
   "source": [
    "head.next.next.next.next.next.next.previous.k"
   ]
  },
  {
   "cell_type": "code",
   "execution_count": 35,
   "id": "871055ca",
   "metadata": {},
   "outputs": [],
   "source": [
    "def delete_head(head):\n",
    "    if not head:\n",
    "        return None\n",
    "    elif not head.next:\n",
    "        return None\n",
    "    else:\n",
    "        new_head = head.next\n",
    "        head.next.previous = None\n",
    "        head.next = None\n",
    "        return new_head"
   ]
  },
  {
   "cell_type": "code",
   "execution_count": 38,
   "id": "a7de699c",
   "metadata": {},
   "outputs": [
    {
     "name": "stdout",
     "output_type": "stream",
     "text": [
      "20->30->122->1223->"
     ]
    }
   ],
   "source": [
    "head = delete_head(head)\n",
    "traverse_list(head)"
   ]
  },
  {
   "cell_type": "markdown",
   "id": "bf2f48cf",
   "metadata": {},
   "source": [
    "## Delete tail"
   ]
  },
  {
   "cell_type": "code",
   "execution_count": 40,
   "id": "b08ccc24",
   "metadata": {},
   "outputs": [],
   "source": [
    "def delete_tail(head):\n",
    "    if not head:\n",
    "        return None\n",
    "    elif not head.next:\n",
    "        return None\n",
    "    curr = head\n",
    "    while curr.next:\n",
    "        curr = curr.next\n",
    "    curr.previous.next = None\n",
    "    curr.previous = None\n",
    "    return head"
   ]
  },
  {
   "cell_type": "code",
   "execution_count": 42,
   "id": "9b6cd70c",
   "metadata": {},
   "outputs": [
    {
     "name": "stdout",
     "output_type": "stream",
     "text": [
      "20->30->"
     ]
    }
   ],
   "source": [
    "head = delete_tail(head)\n",
    "traverse_list(head)"
   ]
  },
  {
   "cell_type": "code",
   "execution_count": 65,
   "id": "63a6f452",
   "metadata": {},
   "outputs": [],
   "source": [
    "#head = None\n",
    "head = insert_end(head, 1252)"
   ]
  },
  {
   "cell_type": "code",
   "execution_count": 66,
   "id": "2a1f2a3c",
   "metadata": {},
   "outputs": [
    {
     "name": "stdout",
     "output_type": "stream",
     "text": [
      "24522->2452->252->1252->"
     ]
    }
   ],
   "source": [
    "traverse_list(head)"
   ]
  },
  {
   "cell_type": "markdown",
   "id": "5dfbb9f7",
   "metadata": {},
   "source": [
    "## Reverse List"
   ]
  },
  {
   "cell_type": "code",
   "execution_count": 50,
   "id": "183f7c69",
   "metadata": {},
   "outputs": [],
   "source": [
    "def reverse_list(head):\n",
    "    if not head:\n",
    "        return None\n",
    "    elif not head.next:\n",
    "        return None\n",
    "    curr = head\n",
    "    prev = None\n",
    "    while curr.next:\n",
    "        prev = curr\n",
    "        curr.next, curr.previous = curr.previous, curr.next\n",
    "        curr = curr.previous\n",
    "    return prev"
   ]
  },
  {
   "cell_type": "code",
   "execution_count": 81,
   "id": "a67b9ed7",
   "metadata": {},
   "outputs": [
    {
     "name": "stdout",
     "output_type": "stream",
     "text": [
      "2452->252->1252->\n",
      "\n",
      "252->2452->24522->"
     ]
    }
   ],
   "source": [
    "traverse_list(head)\n",
    "print(\"\\n\")\n",
    "head = reverse_list(head)\n",
    "traverse_list(head)"
   ]
  }
 ],
 "metadata": {
  "kernelspec": {
   "display_name": "Python 3",
   "language": "python",
   "name": "python3"
  },
  "language_info": {
   "codemirror_mode": {
    "name": "ipython",
    "version": 3
   },
   "file_extension": ".py",
   "mimetype": "text/x-python",
   "name": "python",
   "nbconvert_exporter": "python",
   "pygments_lexer": "ipython3",
   "version": "3.8.8"
  }
 },
 "nbformat": 4,
 "nbformat_minor": 5
}
