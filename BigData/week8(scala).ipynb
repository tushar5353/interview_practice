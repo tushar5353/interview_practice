{
 "cells": [
  {
   "cell_type": "markdown",
   "id": "eaefb75d",
   "metadata": {},
   "source": [
    "Table of contents\n",
    "=================\n",
    "* [Intruduction](#Introduction)\n",
    "* [Scala Basics](#Scala-Basics)\n",
    "  - [Declaring a variable](#Declaring-a-variable)\n",
    "  - [s interpolation](#s-interpolation)\n",
    "  - [f interpolation](#f-interpolation)\n",
    "  - [raw interpolation](#raw-interpolation)\n",
    "  - [Comparision](#Comparision)\n",
    "  - [Match Case](#Match-Case)\n",
    "  - [For Loop](#For-Loop)\n",
    "  - [While Loop](#While-Loop)\n",
    "  - [Do While](#Do-While)\n",
    "  - [Expression Block](#Expression-Block)\n",
    "  - [Functions](#Functions)\n",
    "  - [Collections](#Collections)\n",
    "    - [Array](#Array)\n",
    "    - [List](#List)\n",
    "    - [Tuple](#Tuple)\n",
    "    - [Range](#Range)\n",
    "    - [Set](#Set)\n",
    "    - [Map](#Map)\n",
    "* [Functional Programming](#Functional-Programming)\n",
    "  - [First Class Function](#First-Class-Function)\n",
    "  - [Higher Order Functions](#Higher-Order-Functions)\n",
    "  - [Loop vs Recursion vs Tail Recursion](#Loop-vs-Recursion-vs-Tail-Recursion)\n",
    "  - [Statement vs Expression](#Statement-vs-Expression)\n",
    "  - [Closure](#Closure)\n",
    "  - [Scala Type System](#Scala-Type-System)\n",
    "  - [Operators](#Operators)\n",
    "  - [Placeholder Syntax](#Placeholder-Syntax)\n",
    "  - [Partially applied Functions](#Partially-applied-Functions)\n",
    "  - [Function Currying](#Function-Currying)\n",
    "* [Object Oriented Programming](#Object-Oriented-Programming)\n",
    "  - [Classes and Objects](#Classes-and-Objects)\n",
    "  - [Inheritance](#Inheritance)\n",
    "  - [Access Modifiers](#Access-Modifiers)\n",
    "  - [Abstract Class](#Abstract-Class)\n",
    "  - [Trait](#Trait)\n",
    "  - [Case Classes](#Case-Classes)"
   ]
  },
  {
   "cell_type": "markdown",
   "id": "7b4122b1",
   "metadata": {},
   "source": [
    "### Introduction\n",
    "\n",
    "Apache spark is being used in many industries for bigdata. Scala is one of the programming languages where we'll write the spark jobs.\n",
    "\n",
    "Spark can be written in four programming languages python, scala, java and R.\n",
    "We'll not consider R since it is mostly used for ML purpose. Scala is most demanding language when it comes to spark because spark itself is written in scala and it is the reason it gives best performance with scala. Whenever there is a new release it'll first come in scala.\n",
    "\n",
    "Next choice is python and is used by people who are mostly in Data Science.\n",
    "\n",
    "Scala code can directly interract with your JVM. But in case of python the program a process is created which will communicate with JVM. Java is the last priority because it has more LoC.\n",
    "\n",
    "You can install the scala environment in eclipse using the meterial given in the Tutorial.\n",
    "\n",
    "For createing a new project and **practice scala** do the following using eclipse.\n",
    "\n",
    "*file > New scala project > name the project > inside your project, right click on src > new > scala worksheet*\n",
    "\n",
    "In worksheet, if you are writing code and saving it you can see the output on the right side. You can use it for practicing scala.\n",
    "However, In this notebook I've used the code shell for showing you the output."
   ]
  },
  {
   "cell_type": "code",
   "execution_count": 4,
   "id": "8836e69a",
   "metadata": {},
   "outputs": [
    {
     "name": "stdout",
     "output_type": "stream",
     "text": [
      "Hello there\n"
     ]
    }
   ],
   "source": [
    "println(\"Hello there\")"
   ]
  },
  {
   "cell_type": "markdown",
   "id": "e7bbfb54",
   "metadata": {},
   "source": [
    "## Scala Basics\n",
    "\n",
    "### Declaring a variable\n",
    "```scala\n",
    " var/val variable_name: <data_type> = <_value_>\n",
    "```\n",
    " \n",
    " If you declare a variable with val you cannot reassign its value, it'll act as a constant. But if you want to change the value of the variable, please declare it with var keywork."
   ]
  },
  {
   "cell_type": "code",
   "execution_count": 9,
   "id": "2a567c92",
   "metadata": {},
   "outputs": [
    {
     "ename": "<console>",
     "evalue": "93",
     "output_type": "error",
     "text": "<console>:93: error: reassignment to val\n       a = 7\n         ^\n",
     "traceback": [
      "\u001b[1;31m<console>:93: error: reassignment to val\u001b[0;0m",
      "\u001b[1;31m       a = 7\u001b[0;0m",
      "\u001b[1;31m         ^\u001b[0;0m"
     ]
    }
   ],
   "source": [
    "val a: Int = 5\n",
    "a = 7"
   ]
  },
  {
   "cell_type": "code",
   "execution_count": 8,
   "id": "9fb67ebe",
   "metadata": {},
   "outputs": [
    {
     "data": {
      "text/plain": [
       "7"
      ]
     },
     "execution_count": 8,
     "metadata": {},
     "output_type": "execute_result"
    }
   ],
   "source": [
    "var a: Int = 5\n",
    "a = 7"
   ]
  },
  {
   "cell_type": "markdown",
   "id": "c03fda20",
   "metadata": {},
   "source": [
    "Scala compiler can also infer the types or you can say it can detect the type of a variable by its value."
   ]
  },
  {
   "cell_type": "code",
   "execution_count": 32,
   "id": "59031748",
   "metadata": {},
   "outputs": [
    {
     "name": "stdout",
     "output_type": "stream",
     "text": [
      "Variable Declared with Data types\n",
      "(124,true,name,3.14,3.1415,123456789,127,a)\n",
      "\n",
      "\n",
      "Variable Declared without Data types\n",
      "(124,true,name,3.14,3.1415,123456789,127,a)\n"
     ]
    },
    {
     "data": {
      "text/plain": [
       "null"
      ]
     },
     "execution_count": 32,
     "metadata": {},
     "output_type": "execute_result"
    }
   ],
   "source": [
    "//Please follow the camelcasing e.g piFloat, numLong\n",
    "\n",
    "val x: Int = 124\n",
    "val y: Boolean = true\n",
    "val z: String = \"name\"\n",
    "val pi: Double = 3.14\n",
    "val piFloat: Float = 3.1415f\n",
    "val numLong: Long = 123456789\n",
    "val smallNumber: Byte = 127\n",
    "val singleCharacter: Char = 'a'\n",
    "\n",
    "// int, bool, string, double, float\n",
    "println(\"Variable Declared with Data types\")\n",
    "println(x, y, z, pi, piFloat, numLong, smallNumber, singleCharacter)\n",
    "\n",
    "val x_ = 124\n",
    "val y_ = true\n",
    "val z_ = \"name\"\n",
    "val pi_ = 3.14\n",
    "val piFloat_ = 3.1415f\n",
    "val numLong_ = 123456789\n",
    "val smallNumber_ = 127\n",
    "val singleCharacter_ = 'a'\n",
    "\n",
    "println(\"\\n\")\n",
    "\n",
    "println(\"Variable Declared without Data types\")\n",
    "println(x_, y_, z_, pi_, piFloat_, numLong_, smallNumber_, singleCharacter_)\n"
   ]
  },
  {
   "cell_type": "markdown",
   "id": "7eaa4e19",
   "metadata": {},
   "source": [
    "### s interpolation\n",
    "Replacing the string value with a variable or substitute a value in the place of varaiable"
   ]
  },
  {
   "cell_type": "code",
   "execution_count": 35,
   "id": "beecdc6a",
   "metadata": {},
   "outputs": [
    {
     "name": "stdout",
     "output_type": "stream",
     "text": [
      "Hi $name, How are you?\n",
      "Hi Tushar, How are you?\n"
     ]
    },
    {
     "data": {
      "text/plain": [
       "null"
      ]
     },
     "execution_count": 35,
     "metadata": {},
     "output_type": "execute_result"
    }
   ],
   "source": [
    "var name: String = \"Tushar\"\n",
    "println(\"Hi $name, How are you?\")\n",
    "println(s\"Hi $name, How are you?\")"
   ]
  },
  {
   "cell_type": "markdown",
   "id": "9153fd61",
   "metadata": {},
   "source": [
    "### f interpolation\n",
    "Same as that of printf style in C"
   ]
  },
  {
   "cell_type": "code",
   "execution_count": 40,
   "id": "499f208e",
   "metadata": {},
   "outputs": [
    {
     "name": "stdout",
     "output_type": "stream",
     "text": [
      "Hi 3.14, How are you\n"
     ]
    },
    {
     "data": {
      "text/plain": [
       "null"
      ]
     },
     "execution_count": 40,
     "metadata": {},
     "output_type": "execute_result"
    }
   ],
   "source": [
    "var num: Double = 3.1415\n",
    "println(f\"Hi $num%.2f, How are you\")"
   ]
  },
  {
   "cell_type": "markdown",
   "id": "524107b3",
   "metadata": {},
   "source": [
    "### raw interpolation\n",
    "Do not do any formatting treate the data as it is."
   ]
  },
  {
   "cell_type": "code",
   "execution_count": 43,
   "id": "760b3275",
   "metadata": {},
   "outputs": [
    {
     "name": "stdout",
     "output_type": "stream",
     "text": [
      "Hi,\n",
      " How are you?\n",
      "Hi,\\n How are you\n"
     ]
    }
   ],
   "source": [
    "println(\"Hi,\\n How are you?\")\n",
    "println(raw\"Hi,\\n How are you\")"
   ]
  },
  {
   "cell_type": "markdown",
   "id": "d4fbc133",
   "metadata": {},
   "source": [
    "### Comparision\n",
    "To compare two string in JAVA we have to use equals, `==` is used for reference comparison. But in case of scala '==' can be used for string comparision."
   ]
  },
  {
   "cell_type": "code",
   "execution_count": 44,
   "id": "37906f57",
   "metadata": {},
   "outputs": [
    {
     "data": {
      "text/plain": [
       "true"
      ]
     },
     "execution_count": 44,
     "metadata": {},
     "output_type": "execute_result"
    }
   ],
   "source": [
    "var name1: String = \"Tushar\"\n",
    "var name2: String = \"Tushar\"\n",
    "\n",
    "name1==name2"
   ]
  },
  {
   "cell_type": "markdown",
   "id": "8dda2a35",
   "metadata": {},
   "source": [
    "### Condition"
   ]
  },
  {
   "cell_type": "code",
   "execution_count": 45,
   "id": "a1a67ede",
   "metadata": {},
   "outputs": [
    {
     "name": "stdout",
     "output_type": "stream",
     "text": [
      "second\n"
     ]
    }
   ],
   "source": [
    "if(1 > 3){\n",
    "    println(\"first\")\n",
    "}else{\n",
    "    println(\"second\")\n",
    "}"
   ]
  },
  {
   "cell_type": "code",
   "execution_count": 47,
   "id": "9d3b00eb",
   "metadata": {},
   "outputs": [
    {
     "name": "stdout",
     "output_type": "stream",
     "text": [
      "second\n"
     ]
    }
   ],
   "source": [
    "// Only incase of single statement we can also write it like following\n",
    "if(1 > 3)\n",
    "    println(\"first\")\n",
    "else\n",
    "    println(\"second\")\n"
   ]
  },
  {
   "cell_type": "markdown",
   "id": "f9b8fbd3",
   "metadata": {},
   "source": [
    "### Match Case\n",
    "This is same as that of Switch in JAVA. Pleases see the below code snippet. In case of JAVA we would have used Switch instead of case."
   ]
  },
  {
   "cell_type": "code",
   "execution_count": 49,
   "id": "784c8b2f",
   "metadata": {},
   "outputs": [
    {
     "name": "stdout",
     "output_type": "stream",
     "text": [
      "matched 1\n"
     ]
    },
    {
     "data": {
      "text/plain": [
       "null"
      ]
     },
     "execution_count": 49,
     "metadata": {},
     "output_type": "execute_result"
    }
   ],
   "source": [
    "val num = 1\n",
    "num match{\n",
    "    case 1 => println(s\"matched $num\")\n",
    "    case 2 => println(s\"matched $num\")\n",
    "    case 3 => println(s\"matched $num\")\n",
    "    case _ => print(\"something else\")\n",
    "}\n"
   ]
  },
  {
   "cell_type": "markdown",
   "id": "52a4d014",
   "metadata": {},
   "source": [
    "### For Loop\n",
    "Below code will iterate from 1 to 10 and print the square of each number."
   ]
  },
  {
   "cell_type": "code",
   "execution_count": 50,
   "id": "1bf49b8d",
   "metadata": {},
   "outputs": [
    {
     "name": "stdout",
     "output_type": "stream",
     "text": [
      "1\n",
      "4\n",
      "9\n",
      "16\n",
      "25\n",
      "36\n",
      "49\n",
      "64\n",
      "81\n",
      "100\n"
     ]
    }
   ],
   "source": [
    "for ( x <- 1 to 10 ){\n",
    "    val a = x * x\n",
    "    println(a)\n",
    "}"
   ]
  },
  {
   "cell_type": "markdown",
   "id": "2f9aa6a6",
   "metadata": {},
   "source": [
    "### While Loop"
   ]
  },
  {
   "cell_type": "code",
   "execution_count": 51,
   "id": "f5307345",
   "metadata": {},
   "outputs": [
    {
     "name": "stdout",
     "output_type": "stream",
     "text": [
      "value of x is 0\n",
      "value of x is 1\n",
      "value of x is 2\n",
      "value of x is 3\n",
      "value of x is 4\n",
      "value of x is 5\n",
      "value of x is 6\n",
      "value of x is 7\n",
      "value of x is 8\n",
      "value of x is 9\n",
      "value of x is 10\n"
     ]
    },
    {
     "data": {
      "text/plain": [
       "null"
      ]
     },
     "execution_count": 51,
     "metadata": {},
     "output_type": "execute_result"
    }
   ],
   "source": [
    "var x = 0\n",
    "while(x <= 10){\n",
    "    println(f\"value of x is $x\")\n",
    "    x = x + 1\n",
    "}"
   ]
  },
  {
   "cell_type": "markdown",
   "id": "bff807f3",
   "metadata": {},
   "source": [
    "### Do While\n",
    "In while loop, if the condition fails it won't execute let's say even in first go. But in case of Do while code will execute atlease once and then condition will be checked."
   ]
  },
  {
   "cell_type": "code",
   "execution_count": 3,
   "id": "51b34a15",
   "metadata": {},
   "outputs": [
    {
     "name": "stdout",
     "output_type": "stream",
     "text": [
      "value of x in 0\n"
     ]
    },
    {
     "data": {
      "text/plain": [
       "null"
      ]
     },
     "execution_count": 3,
     "metadata": {},
     "output_type": "execute_result"
    }
   ],
   "source": [
    "var x = 0\n",
    "// this code will execute atleast once\n",
    "do{\n",
    "    println(f\"value of x in $x\")\n",
    "    x = x + 1\n",
    "} while(x>=10)"
   ]
  },
  {
   "cell_type": "markdown",
   "id": "9be20334",
   "metadata": {},
   "source": [
    "### Expression Block"
   ]
  },
  {
   "cell_type": "code",
   "execution_count": 11,
   "id": "ddc4ce5e",
   "metadata": {},
   "outputs": [
    {
     "name": "stdout",
     "output_type": "stream",
     "text": [
      "20\n"
     ]
    },
    {
     "data": {
      "text/plain": [
       "null"
      ]
     },
     "execution_count": 11,
     "metadata": {},
     "output_type": "execute_result"
    }
   ],
   "source": [
    "var expressionBlock = {\n",
    "    var x = 10\n",
    "    x + 10\n",
    "}\n",
    "println(expressionBlock)"
   ]
  },
  {
   "cell_type": "code",
   "execution_count": 13,
   "id": "7d39f73e",
   "metadata": {},
   "outputs": [
    {
     "name": "stdout",
     "output_type": "stream",
     "text": [
      "7\n"
     ]
    },
    {
     "data": {
      "text/plain": [
       "null"
      ]
     },
     "execution_count": 13,
     "metadata": {},
     "output_type": "execute_result"
    }
   ],
   "source": [
    "var expressionBlock = {\n",
    "    var x = 10\n",
    "    x + 10\n",
    "    7\n",
    "}\n",
    "println(expressionBlock)"
   ]
  },
  {
   "cell_type": "markdown",
   "id": "6f8365f7",
   "metadata": {},
   "source": [
    "Scala supports both \"Object Oriented Programming Style\" and \"Functional Programming Style\". But Functional programming style is supported."
   ]
  },
  {
   "cell_type": "markdown",
   "id": "6814073b",
   "metadata": {},
   "source": [
    "### Functions"
   ]
  },
  {
   "cell_type": "code",
   "execution_count": 9,
   "id": "e97fa229",
   "metadata": {},
   "outputs": [
    {
     "data": {
      "text/plain": [
       "5180176"
      ]
     },
     "execution_count": 9,
     "metadata": {},
     "output_type": "execute_result"
    }
   ],
   "source": [
    "def squareIt(x: Int): Int = {\n",
    "    x*x // or return x * x\n",
    "}\n",
    "\n",
    "squareIt(2276)"
   ]
  },
  {
   "cell_type": "code",
   "execution_count": 10,
   "id": "250ac7d5",
   "metadata": {},
   "outputs": [
    {
     "data": {
      "text/plain": [
       "5180176"
      ]
     },
     "execution_count": 10,
     "metadata": {},
     "output_type": "execute_result"
    }
   ],
   "source": [
    "def squareIt(x: Int): Int = x*x\n",
    "\n",
    "squareIt(2276)"
   ]
  },
  {
   "cell_type": "markdown",
   "id": "c0b5519f",
   "metadata": {},
   "source": [
    "In the Below function definition we are passing f that is a function and takes parameter of int type."
   ]
  },
  {
   "cell_type": "code",
   "execution_count": 14,
   "id": "23684cee",
   "metadata": {},
   "outputs": [
    {
     "data": {
      "text/plain": [
       "100"
      ]
     },
     "execution_count": 14,
     "metadata": {},
     "output_type": "execute_result"
    }
   ],
   "source": [
    "// transformInt is a higher order function that takes function as an argument\n",
    "def transformInt(x: Int, f:Int => Int): Int = {\n",
    "    f(x) // Apply function `f` on value x\n",
    "}\n",
    "\n",
    "transformInt(10, squareIt)"
   ]
  },
  {
   "cell_type": "code",
   "execution_count": 16,
   "id": "a276d949",
   "metadata": {},
   "outputs": [
    {
     "data": {
      "text/plain": [
       "8"
      ]
     },
     "execution_count": 16,
     "metadata": {},
     "output_type": "execute_result"
    }
   ],
   "source": [
    "// passing a function without a definition, also known as anonymous function\n",
    "transformInt(2, x => x*x*x)"
   ]
  },
  {
   "cell_type": "code",
   "execution_count": 20,
   "id": "ec833d59",
   "metadata": {},
   "outputs": [
    {
     "data": {
      "text/plain": [
       "4"
      ]
     },
     "execution_count": 20,
     "metadata": {},
     "output_type": "execute_result"
    }
   ],
   "source": [
    "def divideByTwo(x: Int) = {\n",
    "    x/2\n",
    "}\n",
    "divideByTwo(9)"
   ]
  },
  {
   "cell_type": "markdown",
   "id": "cb20eff5",
   "metadata": {},
   "source": [
    "### Collections\n",
    "Collection is a data type that can hold collection of values or multiple values. Following collections are available in Scala\n",
    "* Array\n",
    "* List\n",
    "* Tuple\n",
    "* Range\n",
    "* Set\n",
    "* Map"
   ]
  },
  {
   "cell_type": "markdown",
   "id": "42eead41",
   "metadata": {},
   "source": [
    "#### Array\n",
    "* Arrays are mutable(values of elements can be changed).\n",
    "* Can be referrenced by index(zero based).\n",
    "* Adding a new element is tricky and is inefficient operation."
   ]
  },
  {
   "cell_type": "code",
   "execution_count": 24,
   "id": "c44d7e99",
   "metadata": {},
   "outputs": [
    {
     "data": {
      "text/plain": [
       "[1, 2, 3, 4, 5]"
      ]
     },
     "execution_count": 24,
     "metadata": {},
     "output_type": "execute_result"
    }
   ],
   "source": [
    "val a = Array(1,2,3,4,5)"
   ]
  },
  {
   "cell_type": "code",
   "execution_count": 31,
   "id": "b8a4fe6e",
   "metadata": {},
   "outputs": [],
   "source": [
    "// Mutable\n",
    "a(2) = 99"
   ]
  },
  {
   "cell_type": "code",
   "execution_count": 30,
   "id": "1ff8b910",
   "metadata": {},
   "outputs": [
    {
     "data": {
      "text/plain": [
       "1,2,99,4,5"
      ]
     },
     "execution_count": 30,
     "metadata": {},
     "output_type": "execute_result"
    }
   ],
   "source": [
    "a.mkString(\",\")"
   ]
  },
  {
   "cell_type": "code",
   "execution_count": 27,
   "id": "8c5d6e83",
   "metadata": {},
   "outputs": [
    {
     "name": "stdout",
     "output_type": "stream",
     "text": [
      "1\n",
      "2\n",
      "3\n",
      "4\n",
      "5\n"
     ]
    }
   ],
   "source": [
    "for(i <- a){\n",
    "    println(i)\n",
    "}"
   ]
  },
  {
   "cell_type": "markdown",
   "id": "81c435bd",
   "metadata": {},
   "source": [
    "#### List\n",
    "* Containe elements of same data types.\n",
    "* Variety of functions are available.\n",
    "* List is basically like Linked list so the searching operations are not efficient.\n",
    "* Adding a new element in the starting is easy."
   ]
  },
  {
   "cell_type": "code",
   "execution_count": 46,
   "id": "a06a11a6",
   "metadata": {},
   "outputs": [
    {
     "name": "stdout",
     "output_type": "stream",
     "text": [
      "1\n",
      "List(2, 3, 4, 5)\n",
      "1\n",
      "2\n",
      "3\n",
      "4\n",
      "5\n",
      "List(5, 4, 3, 2, 1)\n",
      "List(1, 2, 3, 4, 5)\n",
      "List(10, 1, 2, 3, 4, 5)\n"
     ]
    },
    {
     "data": {
      "text/plain": [
       "null"
      ]
     },
     "execution_count": 46,
     "metadata": {},
     "output_type": "execute_result"
    }
   ],
   "source": [
    "var l = List(1,2,3,4,5)\n",
    "println(l.head) // First Element\n",
    "println(l.tail) // All elements except Head\n",
    "// Loop over the list\n",
    "for (i <- l){\n",
    "    println(i)\n",
    "}\n",
    "println(l.reverse) // Reverse a list\n",
    "println(l)\n",
    "l = 10 :: l // adding an element\n",
    "println(l)"
   ]
  },
  {
   "cell_type": "markdown",
   "id": "68f6d795",
   "metadata": {},
   "source": [
    "#### Tuple\n",
    "* Used extensively used in Spark.\n",
    "* Can include elements of different data types.\n",
    "* Index starts with 1.\n",
    "* If we have touple of two elements In this scenerio 1st element can be treated like a key and second value can be treated as value."
   ]
  },
  {
   "cell_type": "code",
   "execution_count": 51,
   "id": "716f2994",
   "metadata": {},
   "outputs": [
    {
     "name": "stdout",
     "output_type": "stream",
     "text": [
      "Tushar\n",
      "Sharma\n",
      "(101,Tushar)\n",
      "(101,Tushar)\n"
     ]
    },
    {
     "data": {
      "text/plain": [
       "null"
      ]
     },
     "execution_count": 51,
     "metadata": {},
     "output_type": "execute_result"
    }
   ],
   "source": [
    "var x = (\"Tushar\", \"Sharma\", 32, true)\n",
    "println(x._1)\n",
    "println(x._2)\n",
    "\n",
    "var y = (101, \"Tushar\")\n",
    "println(y)\n",
    "var z = 101 -> \"Tushar\"\n",
    "println(z)"
   ]
  },
  {
   "cell_type": "markdown",
   "id": "bf8d2899",
   "metadata": {},
   "source": [
    "#### Range\n",
    "* We can specify a range of values e.g '1 to 10' or '1 until 10'."
   ]
  },
  {
   "cell_type": "code",
   "execution_count": 56,
   "id": "d3aecb3c",
   "metadata": {},
   "outputs": [
    {
     "name": "stdout",
     "output_type": "stream",
     "text": [
      "Range(1, 2, 3, 4, 5, 6, 7, 8, 9, 10)\n",
      "1\n",
      "2\n",
      "3\n",
      "4\n",
      "5\n",
      "6\n",
      "7\n",
      "8\n",
      "9\n",
      "10\n"
     ]
    },
    {
     "data": {
      "text/plain": [
       "null"
      ]
     },
     "execution_count": 56,
     "metadata": {},
     "output_type": "execute_result"
    }
   ],
   "source": [
    "var rng = 1 to 10\n",
    "println(rng)\n",
    "for(i <- rng){\n",
    "    println(i)\n",
    "}"
   ]
  },
  {
   "cell_type": "code",
   "execution_count": 57,
   "id": "29948a50",
   "metadata": {},
   "outputs": [
    {
     "name": "stdout",
     "output_type": "stream",
     "text": [
      "Range(1, 2, 3, 4, 5, 6, 7, 8, 9)\n",
      "1\n",
      "2\n",
      "3\n",
      "4\n",
      "5\n",
      "6\n",
      "7\n",
      "8\n",
      "9\n"
     ]
    },
    {
     "data": {
      "text/plain": [
       "null"
      ]
     },
     "execution_count": 57,
     "metadata": {},
     "output_type": "execute_result"
    }
   ],
   "source": [
    "var rng = 1  until 10\n",
    "println(rng)\n",
    "for(i <- rng){\n",
    "    println(i)\n",
    "}"
   ]
  },
  {
   "cell_type": "markdown",
   "id": "b7ddd86f",
   "metadata": {},
   "source": [
    "#### Set\n",
    "* A set holds only unique values.\n",
    "* Order is not maintainer."
   ]
  },
  {
   "cell_type": "code",
   "execution_count": 61,
   "id": "39695ae3",
   "metadata": {},
   "outputs": [
    {
     "name": "stdout",
     "output_type": "stream",
     "text": [
      "Set(1, 2, 3)\n",
      "Set(1, 3, 2, 4)\n"
     ]
    },
    {
     "data": {
      "text/plain": [
       "null"
      ]
     },
     "execution_count": 61,
     "metadata": {},
     "output_type": "execute_result"
    }
   ],
   "source": [
    "var x = Set(1,2,3)\n",
    "println(x)\n",
    "var _x = Set(1,3,2,3,4)\n",
    "println(_x)"
   ]
  },
  {
   "cell_type": "markdown",
   "id": "e853b657",
   "metadata": {},
   "source": [
    "#### Map\n",
    "* Collection of key, value pairs.\n",
    "* If same key is provided to two values then latest one will be discarded."
   ]
  },
  {
   "cell_type": "code",
   "execution_count": 65,
   "id": "c737de76",
   "metadata": {},
   "outputs": [
    {
     "name": "stdout",
     "output_type": "stream",
     "text": [
      "Map(1 -> Tushar, 2 -> Vikas)\n"
     ]
    },
    {
     "data": {
      "text/plain": [
       "Some(Tushar)"
      ]
     },
     "execution_count": 65,
     "metadata": {},
     "output_type": "execute_result"
    }
   ],
   "source": [
    "var x= Map(1->\"Tushar\", 2->\"Vikas\")\n",
    "println(x)\n",
    "x.get(1)"
   ]
  },
  {
   "cell_type": "code",
   "execution_count": 1,
   "id": "057a8ac6",
   "metadata": {},
   "outputs": [
    {
     "name": "stdout",
     "output_type": "stream",
     "text": [
      "Map(1 -> XXX, 2 -> Vikas)\n"
     ]
    },
    {
     "data": {
      "text/plain": [
       "null"
      ]
     },
     "execution_count": 1,
     "metadata": {},
     "output_type": "execute_result"
    }
   ],
   "source": [
    "// Keys cannot be repeated\n",
    "var x= Map(1->\"Tushar\", 2->\"Vikas\", 1->\"XXX\")\n",
    "println(x)"
   ]
  },
  {
   "cell_type": "markdown",
   "id": "26ecde76",
   "metadata": {},
   "source": [
    "## Functional Programming\n",
    "\n",
    "There are two ways you can write scala code:</BR>\n",
    "REPL - Interactive manner(spark-shell)</BR>\n",
    "IDE - Write in eclipse and then bundle in java.</BR>\n",
    "\n",
    "You can use spark-shell for hit and trial purpose and then you can use the same code in IDE to create JAR.\n",
    "\n",
    "Any programming language that supports use of pure functions and immutable values can be referred as **Functional Programming Language**.\n",
    "It is very good fit when we talk about library design and data crunching. That's why spark developer used scala to write spark libraries.\n",
    "\n",
    "What is a function?</BR>\n",
    "A function related an input to an output.\n",
    "\n",
    "```\n",
    "a = sqrt(4)\n",
    "a = 2\n",
    "\n",
    "Here, Input is 4 and output is 2 and relation b/w input and output is sqrt.\n",
    "```\n",
    "\n",
    "What is a pure function?\n",
    "* The input solely determines output, it means output is not dependent on any other parameter.\n",
    "    ```\n",
    "    sqrt(4) -> 2 //pure function\n",
    "    dollarToRs(40) -> 2800 // Not a pure function\n",
    "    ```\n",
    "    ```scala\n",
    "    var i = 10\n",
    "    def func1(a:Int): Int = {\n",
    "        return a + i    \n",
    "    } // Impure Function\n",
    "    \n",
    "    def func1(a:Int, i:Int): Int = {\n",
    "        return a + i    \n",
    "    } // Pure Function\n",
    "    ```\n",
    "    </BR>\n",
    "* The function doesn't change its input value.\n",
    "    ```scala\n",
    "    def func1(a:Int)={\n",
    "    a = a + 1\n",
    "    return a\n",
    "    } // Impure function\n",
    "\n",
    "   def func1(a:Int)={\n",
    "    return a + 1\n",
    "    } // Pure function\n",
    "    ```\n",
    "    </BR>\n",
    "* There are not side-effects. This means function only do whatever is intented to do, Nothing extra.\n",
    "\n",
    "    ```scala\n",
    "    def func(a:Int): Int = {\n",
    "    println(\"Hello\")\n",
    "    return a\n",
    "    } //Impure function\n",
    "\n",
    "    def func(a:Int): Int = {\n",
    "    return a\n",
    "    } //Pure function\n",
    "\n",
    "    ```\n"
   ]
  },
  {
   "cell_type": "markdown",
   "id": "37794a49",
   "metadata": {},
   "source": [
    "* Is there any way to test the purity of a function?\n",
    "If there is referential transparency, then it is a pure function.\n",
    "\n",
    "A function is referentially transparent if replacing the function with a value do not impact the result.\n",
    "\n",
    "e.g sqrt(4) can be directly replace with 2 or we can say we can replace all the occurances of sqrt(4) with 2 and our output will not be impacted.\n",
    "On the other hand if we have dollarsToRs(10) function we cannot replace it with a value since it is not giving a constant result.\n",
    "\n",
    "### First Class Function\n",
    "Whatever we were able to do with values in traditional programming, same thing we should be able to do with the functions as well. We should be able to treat functions as value.\n",
    "\n",
    "A function is called as first class if it supports below three features:\n",
    "* We should be able to assign a function to a variable, just like we assign values to a variable.\n"
   ]
  },
  {
   "cell_type": "code",
   "execution_count": 8,
   "id": "c98335cd",
   "metadata": {},
   "outputs": [
    {
     "data": {
      "text/plain": [
       "20"
      ]
     },
     "execution_count": 8,
     "metadata": {},
     "output_type": "execute_result"
    }
   ],
   "source": [
    "def doubleNum(a:Int): Int = {\n",
    "    return a*2\n",
    "}\n",
    "\n",
    "val x = doubleNum(_)  // Assigning a function to a variable\n",
    "x(10)"
   ]
  },
  {
   "cell_type": "markdown",
   "id": "42a11a92",
   "metadata": {},
   "source": [
    "* We should be able to pass a param as a function to a function"
   ]
  },
  {
   "cell_type": "code",
   "execution_count": 15,
   "id": "20cac461",
   "metadata": {},
   "outputs": [
    {
     "name": "stdout",
     "output_type": "stream",
     "text": [
      "297\n",
      "198\n"
     ]
    },
    {
     "data": {
      "text/plain": [
       "null"
      ]
     },
     "execution_count": 15,
     "metadata": {},
     "output_type": "execute_result"
    }
   ],
   "source": [
    "def tripler(i: Int): Int = {\n",
    "    return i * 3\n",
    "}\n",
    "\n",
    "def func(i: Int, f: Int => Int) = {\n",
    "    /* This function takes two params wher first is an integer type\n",
    "       where as second param is a function type which takes an int\n",
    "       and returns an int\n",
    "    */\n",
    "    f(i)\n",
    "}\n",
    "\n",
    "println(func(99, tripler))\n",
    "println(func(99, doubleNum))"
   ]
  },
  {
   "cell_type": "markdown",
   "id": "2aba8cb3",
   "metadata": {},
   "source": [
    "* A function should return a function"
   ]
  },
  {
   "cell_type": "code",
   "execution_count": 16,
   "id": "73c8feed",
   "metadata": {},
   "outputs": [
    {
     "data": {
      "text/plain": [
       "16"
      ]
     },
     "execution_count": 16,
     "metadata": {},
     "output_type": "execute_result"
    }
   ],
   "source": [
    "def func = {\n",
    "    // Here, we are trying to return an anonymous function\n",
    "    x: Int => x * x\n",
    "}\n",
    "\n",
    "func(4)"
   ]
  },
  {
   "cell_type": "markdown",
   "id": "fa8db244",
   "metadata": {},
   "source": [
    "### Higher Order Functions\n",
    "A function Which either takes a function as an input parameter or returns a function.\n",
    "\n",
    "Map is a higher order function. If there are n input rows then we'll get n output rows so we can say it's one to one mapping."
   ]
  },
  {
   "cell_type": "code",
   "execution_count": 20,
   "id": "29751b55",
   "metadata": {},
   "outputs": [
    {
     "data": {
      "text/plain": [
       "[[2, 4, 6, 8, 10, 12, 14, 16, 18, 20]]"
      ]
     },
     "execution_count": 20,
     "metadata": {},
     "output_type": "execute_result"
    }
   ],
   "source": [
    "var a = 1 to 10\n",
    "a.map(doubleNum) // Map will apply doubleMap function on each value of a"
   ]
  },
  {
   "cell_type": "markdown",
   "id": "820561fc",
   "metadata": {},
   "source": [
    "#### Anonymous Function\n",
    "A function without a name is an Anonymous function"
   ]
  },
  {
   "cell_type": "code",
   "execution_count": 22,
   "id": "03223fb8",
   "metadata": {},
   "outputs": [
    {
     "data": {
      "text/plain": [
       "[[2, 4, 6, 8, 10, 12, 14, 16, 18, 20]]"
      ]
     },
     "execution_count": 22,
     "metadata": {},
     "output_type": "execute_result"
    }
   ],
   "source": [
    "/* This is an anonymous function since we are not writing a definition for x => x*2\n",
    "   Same thing is there in python known as lambda\n",
    "*/\n",
    "a.map(x => x*2)"
   ]
  },
  {
   "cell_type": "markdown",
   "id": "1998d60e",
   "metadata": {},
   "source": [
    "#### Immutability\n",
    "It means we cannot change the value. Scala supports bot mutability and immutability.</BR>\n",
    "But Immutability is more preferred. e.g var and val keywords."
   ]
  },
  {
   "cell_type": "markdown",
   "id": "d118293a",
   "metadata": {},
   "source": [
    "### Loop vs Recursion vs Tail Recursion\n",
    "\n",
    "#### Loop\n",
    "In the below function we are mutating the values of result and i that is not a good practice.\n",
    "We can use Recursive function instead."
   ]
  },
  {
   "cell_type": "code",
   "execution_count": 25,
   "id": "bce17966",
   "metadata": {},
   "outputs": [
    {
     "data": {
      "text/plain": [
       "6"
      ]
     },
     "execution_count": 25,
     "metadata": {},
     "output_type": "execute_result"
    }
   ],
   "source": [
    "def loopFactorial(input: Int): Int = {\n",
    "    // Function to return factorial of a number using loop\n",
    "    var result: Int = 1\n",
    "    for (i <- 1 to input){\n",
    "        result = result * i\n",
    "    }\n",
    "    return result\n",
    "}\n",
    "\n",
    "loopFactorial(3)"
   ]
  },
  {
   "cell_type": "markdown",
   "id": "436c9485",
   "metadata": {},
   "source": [
    "#### Recursion"
   ]
  },
  {
   "cell_type": "code",
   "execution_count": 38,
   "id": "c45bd768",
   "metadata": {},
   "outputs": [
    {
     "data": {
      "text/plain": [
       "120"
      ]
     },
     "execution_count": 38,
     "metadata": {},
     "output_type": "execute_result"
    }
   ],
   "source": [
    "def recursiveFactorial(input: Int): Int = {\n",
    "    /* Function to return factorial of a number using recursion\n",
    "       5 * recursiveFactorial(4)\n",
    "       5 * 4 * recursiveFactorial(3)\n",
    "       5 * 4 * 3 * recursiveFactorial(2)\n",
    "       5 * 4 * 3 * 2 * recursiveFactorial(1)\n",
    "       5 * 4 * 3 * 2 * 1\n",
    "    */\n",
    "    if (input == 1) 1\n",
    "    else input * recursiveFactorial(input - 1)\n",
    "}\n",
    "\n",
    "recursiveFactorial(5)"
   ]
  },
  {
   "cell_type": "markdown",
   "id": "e4e9c263",
   "metadata": {},
   "source": [
    "#### Tail Recursion\n",
    "It will give you memory improvements that is not there in normal recursion."
   ]
  },
  {
   "cell_type": "code",
   "execution_count": 46,
   "id": "071070f5",
   "metadata": {},
   "outputs": [
    {
     "data": {
      "text/plain": [
       "120"
      ]
     },
     "execution_count": 46,
     "metadata": {},
     "output_type": "execute_result"
    }
   ],
   "source": [
    "def tailRecursiveFactorial(input: Int, result: Int): Int = {\n",
    "    /* Function to return factorial of a number using tail recursion\n",
    "       Here, previous function call will be removed from the memory\n",
    "    */\n",
    "    if (input == 1) result\n",
    "    else tailRecursiveFactorial(input - 1, result*input) // Recursive call is the last statement\n",
    "}\n",
    "\n",
    "tailRecursiveFactorial(5, 1)"
   ]
  },
  {
   "cell_type": "markdown",
   "id": "8517dc93",
   "metadata": {},
   "source": [
    "### Statement vs Expression\n",
    "Each line in a code block is a statement.\n",
    "\n",
    "Expression is a LoC that returns something.\n",
    "\n",
    "In scala we do not have statements and we only have expressions. It means each LoC returns something."
   ]
  },
  {
   "cell_type": "code",
   "execution_count": 50,
   "id": "82e4aa9b",
   "metadata": {},
   "outputs": [
    {
     "name": "stdout",
     "output_type": "stream",
     "text": [
      "Hello\n",
      "()\n",
      "true\n"
     ]
    },
    {
     "data": {
      "text/plain": [
       "null"
      ]
     },
     "execution_count": 50,
     "metadata": {},
     "output_type": "execute_result"
    }
   ],
   "source": [
    "val a = println(\"Hello\") // It is returning as null\n",
    "println(a)\n",
    "\n",
    "val x = 5\n",
    "val if_ret = if (x==5) true else false //  if-else will return something \n",
    "println(if_ret)"
   ]
  },
  {
   "cell_type": "markdown",
   "id": "5738a5a5",
   "metadata": {},
   "source": [
    "### Closure\n",
    "In functional programming, A function can return a function. In OOPS we could have return an object.</BR>\n",
    "In case of closure we maintain a state along with the functionality. For ex in below code snippet pi inside the function definition will be considered."
   ]
  },
  {
   "cell_type": "code",
   "execution_count": 3,
   "id": "bcc2f9fb",
   "metadata": {},
   "outputs": [
    {
     "name": "stdout",
     "output_type": "stream",
     "text": [
      "<function1>\n",
      "314.0\n"
     ]
    },
    {
     "data": {
      "text/plain": [
       "null"
      ]
     },
     "execution_count": 3,
     "metadata": {},
     "output_type": "execute_result"
    }
   ],
   "source": [
    "// It a function that will return a function\n",
    "def areaOfCircle = {\n",
    "    val pi = 3.14\n",
    "    (x: Int)=>pi * x * x\n",
    "}\n",
    "\n",
    "val pi = 3.15\n",
    "\n",
    "println(areaOfCircle)\n",
    "println(areaOfCircle(10)) // State of pi is maintained"
   ]
  },
  {
   "cell_type": "markdown",
   "id": "24470047",
   "metadata": {},
   "source": [
    "### Scala Type System\n",
    "\n",
    "All are derived from Any class and are divided into two, AnyVal and AnyRef.\n",
    "                               \n",
    "                                   Any\n",
    "                                 /    \\\n",
    "          AnyVal                                        AnyRef\n",
    "           \n",
    "          Char \n",
    "          Byte                                          List\n",
    "          Short                                         String\n",
    "          Int                                           Sequence\n",
    "          Long                                          Tuple\n",
    "          Float                                         Null(can assign to any AnyRef type)\n",
    "          Double                                        Nothing(Absence of a value, It's not null, nor void.)\n",
    "                       \n",
    "          Unit [return = ()] - println\n",
    "          Boolean [true/false]\n",
    "Implicit type casting is there in AnyVal. Char can be promoted to Int, Byte can be promoted to Short, Short can be promoted to Int and so on... It works in top down manner.\n",
    "\n",
    "But if you are doing something on Double and Unit it will return AnyVal.\n",
    "\n"
   ]
  },
  {
   "cell_type": "code",
   "execution_count": 24,
   "id": "43abdd4d",
   "metadata": {},
   "outputs": [
    {
     "name": "stdout",
     "output_type": "stream",
     "text": [
      "int\n",
      "Hi\n",
      "------------\n",
      "void\n",
      "double\n",
      "class java.lang.Integer\n"
     ]
    },
    {
     "data": {
      "text/plain": [
       "class scala.collection.immutable.$colon$colon"
      ]
     },
     "execution_count": 24,
     "metadata": {},
     "output_type": "execute_result"
    }
   ],
   "source": [
    "val a = 5\n",
    "println(a.getClass)\n",
    "\n",
    "val x = println(\"Hi\")\n",
    "println(\"------------\")\n",
    "println(x.getClass)\n",
    "\n",
    "val y = if(a==5) 1 else 3.0\n",
    "println(y.getClass) //int will be promoted to a double\n",
    "\n",
    "val z = if(a==5) 1 else println(\"Hi\")\n",
    "println(z.getClass)\n",
    "\n",
    "val z_ = if(a==5) 'a' else 1\n",
    "z.getClass\n",
    "\n",
    "val n = if(a==5) List(2,3) else List(1,2)\n",
    "n.getClass"
   ]
  },
  {
   "cell_type": "markdown",
   "id": "c6d1bda1",
   "metadata": {},
   "source": [
    "### Operators\n",
    "In scala, we do not have operators we only have methods or functions. However, we can write them as operators and internally it'll treat them as functions."
   ]
  },
  {
   "cell_type": "code",
   "execution_count": 31,
   "id": "4da24a20",
   "metadata": {},
   "outputs": [
    {
     "name": "stdout",
     "output_type": "stream",
     "text": [
      "-1\n",
      "7\n",
      "-1\n"
     ]
    },
    {
     "data": {
      "text/plain": [
       "null"
      ]
     },
     "execution_count": 31,
     "metadata": {},
     "output_type": "execute_result"
    }
   ],
   "source": [
    "val a = 3\n",
    "val b = 4\n",
    "println(a.compare(b))\n",
    "println(a.+(b)) // we can clearly see that + is a method that is operating on a\n",
    "println(a compare b) // writing as operators"
   ]
  },
  {
   "cell_type": "markdown",
   "id": "e1a4e511",
   "metadata": {},
   "source": [
    "### Placeholder Syntax"
   ]
  },
  {
   "cell_type": "code",
   "execution_count": 45,
   "id": "c16ec4f7",
   "metadata": {},
   "outputs": [
    {
     "name": "stdout",
     "output_type": "stream",
     "text": [
      "Vector(2, 4, 6, 8, 10, 12, 14, 16, 18, 20, 22, 24, 26, 28, 30, 32, 34, 36, 38, 40, 42, 44, 46, 48, 50, 52, 54, 56, 58, 60, 62, 64, 66, 68, 70, 72, 74, 76, 78, 80, 82, 84, 86, 88, 90, 92, 94, 96, 98, 100, 102, 104, 106, 108, 110, 112, 114, 116, 118, 120, 122, 124, 126, 128, 130, 132, 134, 136, 138, 140, 142, 144, 146, 148, 150, 152, 154, 156, 158, 160, 162, 164, 166, 168, 170, 172, 174, 176, 178, 180, 182, 184, 186, 188, 190, 192, 194, 196, 198, 200)\n",
      "Vector(2, 4, 6, 8, 10, 12, 14, 16, 18, 20, 22, 24, 26, 28, 30, 32, 34, 36, 38, 40, 42, 44, 46, 48, 50, 52, 54, 56, 58, 60, 62, 64, 66, 68, 70, 72, 74, 76, 78, 80, 82, 84, 86, 88, 90, 92, 94, 96, 98, 100, 102, 104, 106, 108, 110, 112, 114, 116, 118, 120, 122, 124, 126, 128, 130, 132, 134, 136, 138, 140, 142, 144, 146, 148, 150, 152, 154, 156, 158, 160, 162, 164, 166, 168, 170, 172, 174, 176, 178, 180, 182, 184, 186, 188, 190, 192, 194, 196, 198, 200)\n",
      "5050\n",
      "5050\n"
     ]
    },
    {
     "data": {
      "text/plain": [
       "null"
      ]
     },
     "execution_count": 45,
     "metadata": {},
     "output_type": "execute_result"
    }
   ],
   "source": [
    "val a = 1 to 100\n",
    "println(a.map((x: Int) => x*2))\n",
    "println(a.map(_*2)) //placeholder sequence\n",
    "println(a.reduce((x: Int, y: Int)=> x+y)) // sum of numbers from 1 to 100\n",
    "println(a.reduce(_ + _)) // placeholder"
   ]
  },
  {
   "cell_type": "markdown",
   "id": "7544ff7f",
   "metadata": {},
   "source": [
    "### Partially applied Functions\n",
    "An act of creating brand new functions by fixing one or more params in a function."
   ]
  },
  {
   "cell_type": "code",
   "execution_count": 48,
   "id": "8f411a62",
   "metadata": {},
   "outputs": [
    {
     "data": {
      "text/plain": [
       "0.5"
      ]
     },
     "execution_count": 48,
     "metadata": {},
     "output_type": "execute_result"
    }
   ],
   "source": [
    "def divideFunc(x: Double, y: Double) = {\n",
    "    x/y\n",
    "}\n",
    "\n",
    "divideFunc(1,2)"
   ]
  },
  {
   "cell_type": "code",
   "execution_count": 52,
   "id": "0b783717",
   "metadata": {},
   "outputs": [
    {
     "data": {
      "text/plain": [
       "0.1"
      ]
     },
     "execution_count": 52,
     "metadata": {},
     "output_type": "execute_result"
    }
   ],
   "source": [
    "val inverse = divideFunc(1, _: Double) // here 1st param is fixed\n",
    "inverse(10)"
   ]
  },
  {
   "cell_type": "code",
   "execution_count": 54,
   "id": "28e6c2b1",
   "metadata": {},
   "outputs": [
    {
     "data": {
      "text/plain": [
       "sumNum: (x: Double, y: Double)Double\n"
      ]
     },
     "execution_count": 54,
     "metadata": {},
     "output_type": "execute_result"
    }
   ],
   "source": [
    "def sumNum(x: Double, y: Double) = {\n",
    "    x+y\n",
    "}"
   ]
  },
  {
   "cell_type": "code",
   "execution_count": 55,
   "id": "b97c6f0b",
   "metadata": {},
   "outputs": [
    {
     "data": {
      "text/plain": [
       "11.0"
      ]
     },
     "execution_count": 55,
     "metadata": {},
     "output_type": "execute_result"
    }
   ],
   "source": [
    "val increment = sumNum(1, _:Int)\n",
    "increment(10)"
   ]
  },
  {
   "cell_type": "code",
   "execution_count": 64,
   "id": "9fdc797e",
   "metadata": {},
   "outputs": [
    {
     "name": "stdout",
     "output_type": "stream",
     "text": [
      "5\n",
      "13\n",
      "5\n"
     ]
    },
    {
     "data": {
      "text/plain": [
       "null"
      ]
     },
     "execution_count": 64,
     "metadata": {},
     "output_type": "execute_result"
    }
   ],
   "source": [
    "def genericSum(x: Int, y: Int, f:Int => Int) = {\n",
    "    f(x) + f(y)\n",
    "}\n",
    "\n",
    "println(genericSum(2,3,x=>x))\n",
    "println(genericSum(2,3,x=>x*x))\n",
    "\n",
    "val sumOfSquares = genericSum(_:Int, _:Int, x=>x*x) // creating a brand new definition by providing an anonymous function\n",
    "println(sumOfSquares(1,2))"
   ]
  },
  {
   "cell_type": "markdown",
   "id": "5f98b76e",
   "metadata": {},
   "source": [
    "### Function Currying\n",
    "While defining a function, we can logically segregate the params into two parts."
   ]
  },
  {
   "cell_type": "code",
   "execution_count": 66,
   "id": "8a2bddb4",
   "metadata": {},
   "outputs": [
    {
     "name": "stdout",
     "output_type": "stream",
     "text": [
      "13\n"
     ]
    },
    {
     "data": {
      "text/plain": [
       "null"
      ]
     },
     "execution_count": 66,
     "metadata": {},
     "output_type": "execute_result"
    }
   ],
   "source": [
    "def genericSum(x: Int, y: Int)(f:Int => Int) = {\n",
    "    f(x) + f(y)\n",
    "}\n",
    "\n",
    "println(genericSum(2,3)(x=>x*x))"
   ]
  },
  {
   "cell_type": "code",
   "execution_count": 67,
   "id": "0d56cc23",
   "metadata": {},
   "outputs": [
    {
     "data": {
      "text/plain": [
       "5"
      ]
     },
     "execution_count": 67,
     "metadata": {},
     "output_type": "execute_result"
    }
   ],
   "source": [
    "def genericSum(f:Int => Int, x: Int, y: Int) = {\n",
    "    f(x) + f(y)\n",
    "}\n",
    "\n",
    "genericSum(x=>x*x, 1, 2)"
   ]
  },
  {
   "cell_type": "code",
   "execution_count": 68,
   "id": "48973f12",
   "metadata": {},
   "outputs": [
    {
     "data": {
      "text/plain": [
       "5"
      ]
     },
     "execution_count": 68,
     "metadata": {},
     "output_type": "execute_result"
    }
   ],
   "source": [
    "def genericSum(f:Int => Int)(x: Int, y: Int) = {\n",
    "    f(x) + f(y)\n",
    "}\n",
    "genericSum(x=>x*x)( 1, 2)"
   ]
  },
  {
   "cell_type": "code",
   "execution_count": 74,
   "id": "d41dfe21",
   "metadata": {},
   "outputs": [
    {
     "data": {
      "text/plain": [
       "493"
      ]
     },
     "execution_count": 74,
     "metadata": {},
     "output_type": "execute_result"
    }
   ],
   "source": [
    "val sumOfSquares = genericSum(x=>x*x)_\n",
    "sumOfSquares(22,3)"
   ]
  },
  {
   "cell_type": "markdown",
   "id": "624ec1ad",
   "metadata": {},
   "source": [
    "## Object Oriented Programming\n",
    "Note: OOPS is not that important for Spark.\n",
    "\n",
    "How to create a class and an instance of class.\n",
    "\n",
    "### Classes and Objects\n",
    "```\n",
    "Class Person{\n",
    "    data\n",
    "     +\n",
    "    Functions\n",
    "}\n",
    "```"
   ]
  },
  {
   "cell_type": "code",
   "execution_count": 2,
   "id": "244aad24",
   "metadata": {},
   "outputs": [
    {
     "name": "stdout",
     "output_type": "stream",
     "text": [
      "$line26.$read$$iw$$iw$Person@52305de1\n"
     ]
    },
    {
     "data": {
      "text/plain": [
       "null"
      ]
     },
     "execution_count": 2,
     "metadata": {},
     "output_type": "execute_result"
    }
   ],
   "source": [
    "class Person // class without and methods and data\n",
    "\n",
    "val p = new Person // instantiating the class or creating an object of class Person\n",
    "println(p)"
   ]
  },
  {
   "cell_type": "code",
   "execution_count": 4,
   "id": "78ff1493",
   "metadata": {},
   "outputs": [
    {
     "ename": "<console>",
     "evalue": "19",
     "output_type": "error",
     "text": "<console>:19: error: value name is not a member of Person\n       p.name\n         ^\n",
     "traceback": [
      "\u001b[1;31m<console>:19: error: value name is not a member of Person\u001b[0;0m",
      "\u001b[1;31m       p.name\u001b[0;0m",
      "\u001b[1;31m         ^\u001b[0;0m"
     ]
    }
   ],
   "source": [
    "class Person(name: String, age:Int) //Class' constructor\n",
    "val p = new Person(\"Tushar\", 30)\n",
    "p.name // Both name and age are class params not class Fields"
   ]
  },
  {
   "cell_type": "code",
   "execution_count": 6,
   "id": "2a9190b6",
   "metadata": {},
   "outputs": [
    {
     "data": {
      "text/plain": [
       "Tushar"
      ]
     },
     "execution_count": 6,
     "metadata": {},
     "output_type": "execute_result"
    }
   ],
   "source": [
    "class Person(val name: String, age:Int) //Class' constructor\n",
    "val p = new Person(\"Tushar\", 30)\n",
    "p.name // After putting val before a class param it'll act as class field"
   ]
  },
  {
   "cell_type": "code",
   "execution_count": 9,
   "id": "ed68ebf4",
   "metadata": {},
   "outputs": [
    {
     "name": "stdout",
     "output_type": "stream",
     "text": [
      "60\n",
      "40000\n",
      "2\n"
     ]
    },
    {
     "data": {
      "text/plain": [
       "null"
      ]
     },
     "execution_count": 9,
     "metadata": {},
     "output_type": "execute_result"
    }
   ],
   "source": [
    "class Person(name: String, age:Int){\n",
    "    val numEyes = 2\n",
    "    \n",
    "    // Function written inside a class are know as class' methods\n",
    "    def ageDoubler = age * 2\n",
    "    \n",
    "    def salaryDouble(salary: Int) = salary * 2\n",
    "}\n",
    "\n",
    "// Instantiate the class\n",
    "\n",
    "val newPerson = new Person(\"Tushar\", 30)\n",
    "println(newPerson.ageDoubler)\n",
    "println(newPerson.salaryDouble(20000)) // have to pass salary while calling salaryDouble\n",
    "println(newPerson.numEyes)"
   ]
  },
  {
   "cell_type": "markdown",
   "id": "9d59d7ff",
   "metadata": {},
   "source": [
    "Each person might have different name, age, salary etc.\n",
    "\n",
    "Let's say there are n number of students in a class then n number of instances will be created from class Student.\n",
    "\n",
    "If something is common for every student Let's say class level then we'll put it in class level functionality. It'll save us memory by 52 times since we'll have same copy of this property for every student.\n",
    "\n",
    "Object is used in Scala to get the class levele functionality."
   ]
  },
  {
   "cell_type": "code",
   "execution_count": 25,
   "id": "a26170a3",
   "metadata": {},
   "outputs": [
    {
     "name": "stdout",
     "output_type": "stream",
     "text": [
      "8\n",
      "true\n",
      "(16,53,Tushar)\n"
     ]
    },
    {
     "data": {
      "text/plain": [
       "null"
      ]
     },
     "execution_count": 25,
     "metadata": {},
     "output_type": "execute_result"
    }
   ],
   "source": [
    "// This is also known as singleton pattern because only one instance is available\n",
    "// Instance will be created automatically with the object's name, we do not have to inastantiate it\n",
    "\n",
    "object StudentInfo{\n",
    "    // Class level Functionality\n",
    "    \n",
    "    val standard: Int = 8    // same copy will be used for every instance\n",
    "    \n",
    "}\n",
    "\n",
    "class StudentInfo(age: Int, roll: Int, name: String){\n",
    "// Instance Level functionality\n",
    "    def printInfo={\n",
    "        println(age, roll, name)\n",
    "    }\n",
    "}\n",
    "println(StudentInfo.standard)\n",
    "\n",
    "// IF both object and class are of same name then its companion design pattern\n",
    "val mary = StudentInfo\n",
    "val john = StudentInfo\n",
    "\n",
    "println(mary==john) // both are same\n",
    "\n",
    "val obj_student = new StudentInfo(16, 53, \"Tushar\")\n",
    "obj_student.printInfo\n"
   ]
  },
  {
   "cell_type": "markdown",
   "id": "9e1fad8e",
   "metadata": {},
   "source": [
    "### Inheritance\n",
    "Inheriting the properties of parent class so that we can reuse them. It can be used using `extends` kwyword.\n",
    "\n",
    "**Multiple Inheritance is not possible in Scala, It means child cannot extends from two parent classes**\n",
    "\n",
    "### Access Modifiers\n",
    "* Private - Child class cannot access parent class' property.\n",
    "* Protected - Only allowed inside the child class, Not directly using the object of child class\n",
    "* Public - can be accessed using object.\n"
   ]
  },
  {
   "cell_type": "code",
   "execution_count": 30,
   "id": "06248475",
   "metadata": {},
   "outputs": [
    {
     "name": "stdout",
     "output_type": "stream",
     "text": [
      "milk\n",
      "Animals eat a lot\n"
     ]
    },
    {
     "data": {
      "text/plain": [
       "null"
      ]
     },
     "execution_count": 30,
     "metadata": {},
     "output_type": "execute_result"
    }
   ],
   "source": [
    "class Animal{\n",
    "    def eat = {\n",
    "        println(\"Animals eat a lot\")\n",
    "    }\n",
    "}\n",
    "\n",
    "class Cat extends Animal{ // This class is inherited from Animal\n",
    "    def preferredMeal = {\n",
    "        println(\"milk\")\n",
    "    }\n",
    "}\n",
    "\n",
    "val obj = new Cat\n",
    "obj.preferredMeal\n",
    "obj.eat // Inherrited method"
   ]
  },
  {
   "cell_type": "code",
   "execution_count": 32,
   "id": "0bb5c54f",
   "metadata": {},
   "outputs": [
    {
     "ename": "<console>",
     "evalue": "32",
     "output_type": "error",
     "text": "<console>:32: error: value eat is not a member of Cat\n       obj.eat // Private Method\n           ^\n",
     "traceback": [
      "\u001b[1;31m<console>:32: error: value eat is not a member of Cat\u001b[0;0m",
      "\u001b[1;31m       obj.eat // Private Method\u001b[0;0m",
      "\u001b[1;31m           ^\u001b[0;0m"
     ]
    }
   ],
   "source": [
    "class Animal{\n",
    "    private def eat = {\n",
    "        println(\"Animals eat a lot\")\n",
    "    }\n",
    "}\n",
    "\n",
    "class Cat extends Animal{ // This class is inherited from Animal\n",
    "    def preferredMeal = {\n",
    "        println(\"milk\")\n",
    "    }\n",
    "}\n",
    "\n",
    "val obj = new Cat\n",
    "obj.preferredMeal\n",
    "obj.eat // Private Method"
   ]
  },
  {
   "cell_type": "markdown",
   "id": "80762b88",
   "metadata": {},
   "source": [
    "### Abstract Class\n",
    "Abstract class can contain unimplemented methods and undefined values. The whole purpose to create an abstract class is to implement it later by inheritting it in child class. Instantiation of abstract class is not possible.\n",
    "\n",
    "Some of the methods can be implemented also."
   ]
  },
  {
   "cell_type": "code",
   "execution_count": 60,
   "id": "f85c2ae7",
   "metadata": {},
   "outputs": [
    {
     "data": {
      "text/plain": [
       "Canine"
      ]
     },
     "execution_count": 60,
     "metadata": {},
     "output_type": "execute_result"
    }
   ],
   "source": [
    "abstract class Animal{\n",
    "    // Unimplemented methods and values\n",
    "    val creatureType: String\n",
    "    def eat\n",
    "    def sleep = {\n",
    "        println(\"Animals sleep a lot\")\n",
    "    }\n",
    "}\n",
    "\n",
    "\n",
    "class Dog extends Animal {\n",
    "    \n",
    "    val creatureType:String = \"Canine\"\n",
    "    def eat = {\n",
    "        println(\"Eats Flesh\")\n",
    "    }\n",
    "}\n",
    "\n",
    "// This will give error\n",
    "//val obj = new Animal\n",
    "val new_obj = new Dog\n",
    "new_obj.creatureType"
   ]
  },
  {
   "cell_type": "markdown",
   "id": "af1b75c0",
   "metadata": {},
   "source": [
    "### Trait\n",
    "Same as that of Abstract class. But it gives you flexibility of using multiple inheritance.\n",
    "\n",
    "Multiple traits can be inherited in a class also traits are behaviours of a class. Traits doesn't allow constructor parameter(s).\n",
    "\n",
    "In JAVA we've interfaces which are totally unimplemented but in case of traits we can have implemented or unimplemented or partially implemented."
   ]
  },
  {
   "cell_type": "code",
   "execution_count": 44,
   "id": "9904f511",
   "metadata": {},
   "outputs": [
    {
     "name": "stdout",
     "output_type": "stream",
     "text": [
      "I eat flesh\n",
      "I like sea food\n"
     ]
    },
    {
     "data": {
      "text/plain": [
       "null"
      ]
     },
     "execution_count": 44,
     "metadata": {},
     "output_type": "execute_result"
    }
   ],
   "source": [
    "trait Carnivore{\n",
    "    def preferredMeal    \n",
    "}\n",
    "\n",
    "trait ColdBlooded\n",
    "\n",
    "class Crocodile extends Animal with Carnivore with ColdBlooded{\n",
    "    val creatureType = \"canine\"\n",
    "    def eat = {\n",
    "        println(\"I eat flesh\")\n",
    "    }    \n",
    "    def preferredMeal = {\n",
    "        println(\"I like sea food\")\n",
    "    }   \n",
    "}\n",
    "\n",
    "val croc = new Crocodile\n",
    "croc.eat\n",
    "croc.preferredMeal"
   ]
  },
  {
   "cell_type": "markdown",
   "id": "6eaf14ed",
   "metadata": {},
   "source": [
    "### Case Classes\n",
    "A special kind of classes where you need to write less code.\n",
    "\n",
    "* In case classes class parameters are promoted to fields automatically(No need to add val before params).\n",
    "* Have sensible toString. If we apply this method to the class' object it'll print the readable value. But in case of normal class you'll get referrence information of a class.\n",
    "* Equals and hash method are implemented already. If you compare the two objects of normal class having the same param values then it will compare the referrences and give false but in case of case classes it'll compare the values instead of referrences.\n",
    "* When we create a case class a companion object is already created.\n",
    "* Copy method is available by default.\n",
    "* Case classes are serializable(can be transmitted over the network)."
   ]
  },
  {
   "cell_type": "code",
   "execution_count": 59,
   "id": "5a2c1a5d",
   "metadata": {},
   "outputs": [
    {
     "name": "stdout",
     "output_type": "stream",
     "text": [
      "Tushar\n",
      "Person(Tushar,30)\n",
      "true\n",
      "Person(Tushar,31)\n",
      "Person(Tushar,32)\n",
      "Person(Tushar,30)\n",
      "Person(Tushar,23)\n"
     ]
    },
    {
     "data": {
      "text/plain": [
       "null"
      ]
     },
     "execution_count": 59,
     "metadata": {},
     "output_type": "execute_result"
    }
   ],
   "source": [
    "// case class implementation\n",
    "\n",
    "case class Person(name: String, age: Int){\n",
    "\n",
    "}\n",
    "\n",
    "val person1 = Person(\"Tushar\", 30)\n",
    "println(person1.name)\n",
    "println(person1.toString) // sensible toString\n",
    "\n",
    "val person2 = Person(\"Tushar\", 30)\n",
    "println(person1 == person2) // equals and hash implemented\n",
    "\n",
    "val personC = Person.apply(\"Tushar\", 31) // Companion object\n",
    "println(personC)\n",
    "val personC1 = Person(\"Tushar\", 32) // Companion object without using apply method\n",
    "println(personC1)\n",
    "\n",
    "val person3 = person2.copy() // Copy method\n",
    "println(person3)\n",
    "val person4 = person2.copy(age=23) // copy method by modifying one of the param\n",
    "println(person4)\n"
   ]
  }
 ],
 "metadata": {
  "kernelspec": {
   "display_name": "Scala",
   "language": "scala",
   "name": "scala"
  },
  "language_info": {
   "codemirror_mode": "text/x-scala",
   "file_extension": ".scala",
   "mimetype": "",
   "name": "Scala",
   "nbconverter_exporter": "",
   "version": "2.11.12"
  }
 },
 "nbformat": 4,
 "nbformat_minor": 5
}
