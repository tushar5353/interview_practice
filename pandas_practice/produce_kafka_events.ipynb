{
 "cells": [
  {
   "cell_type": "code",
   "execution_count": 5,
   "id": "726ab8f0",
   "metadata": {},
   "outputs": [
    {
     "name": "stdout",
     "output_type": "stream",
     "text": [
      "Defaulting to user installation because normal site-packages is not writeable\n",
      "Collecting kafka-python\n",
      "  Downloading kafka_python-2.0.2-py2.py3-none-any.whl (246 kB)\n",
      "\u001b[K     |████████████████████████████████| 246 kB 5.4 MB/s eta 0:00:01\n",
      "\u001b[?25hInstalling collected packages: kafka-python\n",
      "Successfully installed kafka-python-2.0.2\n",
      "\u001b[33mWARNING: You are using pip version 20.3.4; however, version 22.3.1 is available.\n",
      "You should consider upgrading via the '/usr/bin/python3 -m pip install --upgrade pip' command.\u001b[0m\n"
     ]
    }
   ],
   "source": [
    "!pip install kafka-python"
   ]
  },
  {
   "cell_type": "code",
   "execution_count": 30,
   "id": "599ec582",
   "metadata": {},
   "outputs": [
    {
     "name": "stdout",
     "output_type": "stream",
     "text": [
      "15002\n",
      "15002\n",
      "Done\n"
     ]
    }
   ],
   "source": [
    "from kafka import KafkaProducer\n",
    "import json\n",
    "import multiprocessing as mp\n",
    "\n",
    "producer = KafkaProducer(\n",
    "    bootstrap_servers=\"in1ia1rclk001.ivycomptech.co.in:9092,\"\n",
    "                      \"in1ia1rclk002.ivycomptech.co.in:9092,\"\n",
    "                      \"in1ia1rclk003.ivycomptech.co.in:9092\")\n",
    "info = {'event_type': 'BINGO_POT_CONSUMER', 'payload': {'round_id': 11111609898765, 'yespot': {'total_players': 0, 'details': {'pjp529': {'Cash_GBP': 300, 'Bonus_GBP': 0}, 'collected_amount': {}, 'pjp531': {'Cash_GBP': 200, 'Bonus_GBP': 0}, 'addon_pot': {'part1': [], 'part2': [], 'part3': [], 'pjp529': None, 'pjp531': None}, 'available_amount': {}, 'part1': {'Cash_GBP': 5, 'Bonus_GBP': 0}, 'part2': {'Cash_GBP': 7, 'Bonus_GBP': 0}, 'part3': {'Cash_GBP': 9, 'Bonus_GBP': 0}, 'feature_pot': {'scratch_card': {}}}, 'number_of_tickets_purchased': 0}}, 'event_num': 0}\n",
    "\n",
    "def send_events():\n",
    "    f = open('/home/tushar/events.txt', 'r')\n",
    "    x = f.read()\n",
    "    x = x.split(\"\\n\")\n",
    "    len(x)\n",
    "    print(len(x))\n",
    "    for i in x:\n",
    "        producer.send('test.bingo.event.threshold', bytes(i, 'utf-8'), batch_size=10000)\n",
    "        producer.flush()\n",
    "\n",
    "if __name__ == \"__main__\":\n",
    "    p1 = mp.Process(target=send_events)\n",
    "    p2 = mp.Process(target=send_events)\n",
    "    \n",
    "    p1.start()\n",
    "    p2.start()\n",
    "    \n",
    "    p1.join()\n",
    "    p2.join()\n",
    "    \n",
    "    print(\"Done\")\n"
   ]
  },
  {
   "cell_type": "code",
   "execution_count": 28,
   "id": "41f11b30",
   "metadata": {},
   "outputs": [],
   "source": [
    "send_events()"
   ]
  },
  {
   "cell_type": "code",
   "execution_count": null,
   "id": "0bc445b0",
   "metadata": {},
   "outputs": [],
   "source": []
  },
  {
   "cell_type": "code",
   "execution_count": null,
   "id": "eb77af0f",
   "metadata": {},
   "outputs": [],
   "source": [
    "consumer = KafkaConsumer('bingo.featuredetails.destination',\n",
    "                         group_id='my-group',\n",
    "                         bootstrap_servers=bootstrap_servers)\n",
    "for message in consumer:\n",
    "    # message value and key are raw bytes -- decode if necessary!\n",
    "    # e.g., for unicode: `message.value.decode('utf-8')`\n",
    "    print (\"%s:%d:%d: key=%s value=%s\" % (message.topic, message.partition,\n",
    "                                          message.offset, message.key,\n",
    "                                          message.value))\n",
    "\n",
    "# # consume earliest available messages, don't commit offsets\n",
    "# KafkaConsumer(auto_offset_reset='earliest', enable_auto_commit=False)\n",
    "\n",
    "# # consume json messages\n",
    "# KafkaConsumer(value_deserializer=lambda m: json.loads(m.decode('ascii')))\n"
   ]
  }
 ],
 "metadata": {
  "kernelspec": {
   "display_name": "Python 3 (ipykernel)",
   "language": "python",
   "name": "python3"
  },
  "language_info": {
   "codemirror_mode": {
    "name": "ipython",
    "version": 3
   },
   "file_extension": ".py",
   "mimetype": "text/x-python",
   "name": "python",
   "nbconvert_exporter": "python",
   "pygments_lexer": "ipython3",
   "version": "3.8.10"
  }
 },
 "nbformat": 4,
 "nbformat_minor": 5
}
