{
 "cells": [
  {
   "cell_type": "code",
   "execution_count": 67,
   "id": "dfcd72ae",
   "metadata": {},
   "outputs": [],
   "source": [
    "import pandas as pd\n",
    "orders_info = pd.read_csv('/mnt/c/Users/tushar.sharma/Downloads/Superstore_orders.csv', encoding='ISO-8859-1')"
   ]
  },
  {
   "cell_type": "code",
   "execution_count": 10,
   "id": "662ee6a1",
   "metadata": {},
   "outputs": [
    {
     "data": {
      "text/html": [
       "<div>\n",
       "<style scoped>\n",
       "    .dataframe tbody tr th:only-of-type {\n",
       "        vertical-align: middle;\n",
       "    }\n",
       "\n",
       "    .dataframe tbody tr th {\n",
       "        vertical-align: top;\n",
       "    }\n",
       "\n",
       "    .dataframe thead th {\n",
       "        text-align: right;\n",
       "    }\n",
       "</style>\n",
       "<table border=\"1\" class=\"dataframe\">\n",
       "  <thead>\n",
       "    <tr style=\"text-align: right;\">\n",
       "      <th></th>\n",
       "      <th>id</th>\n",
       "      <th>product</th>\n",
       "      <th>sales</th>\n",
       "      <th>profit</th>\n",
       "    </tr>\n",
       "  </thead>\n",
       "  <tbody>\n",
       "    <tr>\n",
       "      <th>0</th>\n",
       "      <td>1</td>\n",
       "      <td>Bush Somerset Collection Bookcase</td>\n",
       "      <td>261.9600</td>\n",
       "      <td>41.9136</td>\n",
       "    </tr>\n",
       "    <tr>\n",
       "      <th>1</th>\n",
       "      <td>2</td>\n",
       "      <td>Hon Deluxe Fabric Upholstered Stacking Chairs,...</td>\n",
       "      <td>731.9400</td>\n",
       "      <td>219.5820</td>\n",
       "    </tr>\n",
       "    <tr>\n",
       "      <th>2</th>\n",
       "      <td>3</td>\n",
       "      <td>Self-Adhesive Address Labels for Typewriters b...</td>\n",
       "      <td>14.6200</td>\n",
       "      <td>6.8714</td>\n",
       "    </tr>\n",
       "    <tr>\n",
       "      <th>3</th>\n",
       "      <td>4</td>\n",
       "      <td>Bretford CR4500 Series Slim Rectangular Table</td>\n",
       "      <td>957.5775</td>\n",
       "      <td>-383.0310</td>\n",
       "    </tr>\n",
       "    <tr>\n",
       "      <th>4</th>\n",
       "      <td>5</td>\n",
       "      <td>Eldon Fold 'N Roll Cart System</td>\n",
       "      <td>22.3680</td>\n",
       "      <td>2.5164</td>\n",
       "    </tr>\n",
       "  </tbody>\n",
       "</table>\n",
       "</div>"
      ],
      "text/plain": [
       "   id                                            product     sales    profit\n",
       "0   1                  Bush Somerset Collection Bookcase  261.9600   41.9136\n",
       "1   2  Hon Deluxe Fabric Upholstered Stacking Chairs,...  731.9400  219.5820\n",
       "2   3  Self-Adhesive Address Labels for Typewriters b...   14.6200    6.8714\n",
       "3   4      Bretford CR4500 Series Slim Rectangular Table  957.5775 -383.0310\n",
       "4   5                     Eldon Fold 'N Roll Cart System   22.3680    2.5164"
      ]
     },
     "execution_count": 10,
     "metadata": {},
     "output_type": "execute_result"
    }
   ],
   "source": [
    "orders_info[:5]"
   ]
  },
  {
   "cell_type": "code",
   "execution_count": 68,
   "id": "432ad647",
   "metadata": {},
   "outputs": [
    {
     "data": {
      "text/plain": [
       "2297200.860299955"
      ]
     },
     "execution_count": 68,
     "metadata": {},
     "output_type": "execute_result"
    }
   ],
   "source": [
    "total_sales = sum(orders_info.sales)\n",
    "total_sales"
   ]
  },
  {
   "cell_type": "code",
   "execution_count": 69,
   "id": "24a5a25d",
   "metadata": {},
   "outputs": [],
   "source": [
    "grouped_info = orders_info.groupby('product').aggregate(sum).reset_index()[['product','sales']]"
   ]
  },
  {
   "cell_type": "code",
   "execution_count": 70,
   "id": "2afe02ce",
   "metadata": {},
   "outputs": [],
   "source": [
    "grouped_info = grouped_info.sort_values(by='sales',ascending=False)"
   ]
  },
  {
   "cell_type": "code",
   "execution_count": 71,
   "id": "af1d0e72",
   "metadata": {},
   "outputs": [],
   "source": [
    "grouped_info = grouped_info.reset_index(drop=True)"
   ]
  },
  {
   "cell_type": "code",
   "execution_count": 72,
   "id": "97c5ae67",
   "metadata": {},
   "outputs": [
    {
     "data": {
      "text/html": [
       "<div>\n",
       "<style scoped>\n",
       "    .dataframe tbody tr th:only-of-type {\n",
       "        vertical-align: middle;\n",
       "    }\n",
       "\n",
       "    .dataframe tbody tr th {\n",
       "        vertical-align: top;\n",
       "    }\n",
       "\n",
       "    .dataframe thead th {\n",
       "        text-align: right;\n",
       "    }\n",
       "</style>\n",
       "<table border=\"1\" class=\"dataframe\">\n",
       "  <thead>\n",
       "    <tr style=\"text-align: right;\">\n",
       "      <th></th>\n",
       "      <th>product</th>\n",
       "      <th>sales</th>\n",
       "    </tr>\n",
       "  </thead>\n",
       "  <tbody>\n",
       "    <tr>\n",
       "      <th>0</th>\n",
       "      <td>Canon imageCLASS 2200 Advanced Copier</td>\n",
       "      <td>61599.824</td>\n",
       "    </tr>\n",
       "    <tr>\n",
       "      <th>1</th>\n",
       "      <td>Fellowes PB500 Electric Punch Plastic Comb Bin...</td>\n",
       "      <td>27453.384</td>\n",
       "    </tr>\n",
       "    <tr>\n",
       "      <th>2</th>\n",
       "      <td>Cisco TelePresence System EX90 Videoconferenci...</td>\n",
       "      <td>22638.480</td>\n",
       "    </tr>\n",
       "    <tr>\n",
       "      <th>3</th>\n",
       "      <td>HON 5400 Series Task Chairs for Big and Tall</td>\n",
       "      <td>21870.576</td>\n",
       "    </tr>\n",
       "    <tr>\n",
       "      <th>4</th>\n",
       "      <td>GBC DocuBind TL300 Electric Binding System</td>\n",
       "      <td>19823.479</td>\n",
       "    </tr>\n",
       "    <tr>\n",
       "      <th>...</th>\n",
       "      <td>...</td>\n",
       "      <td>...</td>\n",
       "    </tr>\n",
       "    <tr>\n",
       "      <th>1844</th>\n",
       "      <td>Avery Hi-Liter Pen Style Six-Color Fluorescent...</td>\n",
       "      <td>7.700</td>\n",
       "    </tr>\n",
       "    <tr>\n",
       "      <th>1845</th>\n",
       "      <td>Grip Seal Envelopes</td>\n",
       "      <td>7.072</td>\n",
       "    </tr>\n",
       "    <tr>\n",
       "      <th>1846</th>\n",
       "      <td>Xerox 20</td>\n",
       "      <td>6.480</td>\n",
       "    </tr>\n",
       "    <tr>\n",
       "      <th>1847</th>\n",
       "      <td>Avery 5</td>\n",
       "      <td>5.760</td>\n",
       "    </tr>\n",
       "    <tr>\n",
       "      <th>1848</th>\n",
       "      <td>Eureka Disposable Bags for Sanitaire Vibra Gro...</td>\n",
       "      <td>1.624</td>\n",
       "    </tr>\n",
       "  </tbody>\n",
       "</table>\n",
       "<p>1849 rows × 2 columns</p>\n",
       "</div>"
      ],
      "text/plain": [
       "                                                product     sales\n",
       "0                 Canon imageCLASS 2200 Advanced Copier 61599.824\n",
       "1     Fellowes PB500 Electric Punch Plastic Comb Bin... 27453.384\n",
       "2     Cisco TelePresence System EX90 Videoconferenci... 22638.480\n",
       "3          HON 5400 Series Task Chairs for Big and Tall 21870.576\n",
       "4            GBC DocuBind TL300 Electric Binding System 19823.479\n",
       "...                                                 ...       ...\n",
       "1844  Avery Hi-Liter Pen Style Six-Color Fluorescent...     7.700\n",
       "1845                                Grip Seal Envelopes     7.072\n",
       "1846                                           Xerox 20     6.480\n",
       "1847                                            Avery 5     5.760\n",
       "1848  Eureka Disposable Bags for Sanitaire Vibra Gro...     1.624\n",
       "\n",
       "[1849 rows x 2 columns]"
      ]
     },
     "execution_count": 72,
     "metadata": {},
     "output_type": "execute_result"
    }
   ],
   "source": [
    "grouped_info"
   ]
  },
  {
   "cell_type": "code",
   "execution_count": 73,
   "id": "7fd3ad2d",
   "metadata": {},
   "outputs": [],
   "source": [
    "grouped_info['cum_sum']=grouped_info['sales'].cumsum()"
   ]
  },
  {
   "cell_type": "code",
   "execution_count": 65,
   "id": "5a162415",
   "metadata": {},
   "outputs": [],
   "source": [
    "pd.set_option('display.float_format', lambda x: '%.3f' % x)"
   ]
  },
  {
   "cell_type": "code",
   "execution_count": 74,
   "id": "8ddef90e",
   "metadata": {},
   "outputs": [
    {
     "data": {
      "text/html": [
       "<div>\n",
       "<style scoped>\n",
       "    .dataframe tbody tr th:only-of-type {\n",
       "        vertical-align: middle;\n",
       "    }\n",
       "\n",
       "    .dataframe tbody tr th {\n",
       "        vertical-align: top;\n",
       "    }\n",
       "\n",
       "    .dataframe thead th {\n",
       "        text-align: right;\n",
       "    }\n",
       "</style>\n",
       "<table border=\"1\" class=\"dataframe\">\n",
       "  <thead>\n",
       "    <tr style=\"text-align: right;\">\n",
       "      <th></th>\n",
       "      <th>product</th>\n",
       "      <th>sales</th>\n",
       "      <th>cum_sum</th>\n",
       "    </tr>\n",
       "  </thead>\n",
       "  <tbody>\n",
       "    <tr>\n",
       "      <th>0</th>\n",
       "      <td>Canon imageCLASS 2200 Advanced Copier</td>\n",
       "      <td>61599.824</td>\n",
       "      <td>61599.824</td>\n",
       "    </tr>\n",
       "    <tr>\n",
       "      <th>1</th>\n",
       "      <td>Fellowes PB500 Electric Punch Plastic Comb Bin...</td>\n",
       "      <td>27453.384</td>\n",
       "      <td>89053.208</td>\n",
       "    </tr>\n",
       "    <tr>\n",
       "      <th>2</th>\n",
       "      <td>Cisco TelePresence System EX90 Videoconferenci...</td>\n",
       "      <td>22638.480</td>\n",
       "      <td>111691.688</td>\n",
       "    </tr>\n",
       "    <tr>\n",
       "      <th>3</th>\n",
       "      <td>HON 5400 Series Task Chairs for Big and Tall</td>\n",
       "      <td>21870.576</td>\n",
       "      <td>133562.264</td>\n",
       "    </tr>\n",
       "    <tr>\n",
       "      <th>4</th>\n",
       "      <td>GBC DocuBind TL300 Electric Binding System</td>\n",
       "      <td>19823.479</td>\n",
       "      <td>153385.743</td>\n",
       "    </tr>\n",
       "    <tr>\n",
       "      <th>...</th>\n",
       "      <td>...</td>\n",
       "      <td>...</td>\n",
       "      <td>...</td>\n",
       "    </tr>\n",
       "    <tr>\n",
       "      <th>1844</th>\n",
       "      <td>Avery Hi-Liter Pen Style Six-Color Fluorescent...</td>\n",
       "      <td>7.700</td>\n",
       "      <td>2297179.924</td>\n",
       "    </tr>\n",
       "    <tr>\n",
       "      <th>1845</th>\n",
       "      <td>Grip Seal Envelopes</td>\n",
       "      <td>7.072</td>\n",
       "      <td>2297186.996</td>\n",
       "    </tr>\n",
       "    <tr>\n",
       "      <th>1846</th>\n",
       "      <td>Xerox 20</td>\n",
       "      <td>6.480</td>\n",
       "      <td>2297193.476</td>\n",
       "    </tr>\n",
       "    <tr>\n",
       "      <th>1847</th>\n",
       "      <td>Avery 5</td>\n",
       "      <td>5.760</td>\n",
       "      <td>2297199.236</td>\n",
       "    </tr>\n",
       "    <tr>\n",
       "      <th>1848</th>\n",
       "      <td>Eureka Disposable Bags for Sanitaire Vibra Gro...</td>\n",
       "      <td>1.624</td>\n",
       "      <td>2297200.860</td>\n",
       "    </tr>\n",
       "  </tbody>\n",
       "</table>\n",
       "<p>1849 rows × 3 columns</p>\n",
       "</div>"
      ],
      "text/plain": [
       "                                                product     sales     cum_sum\n",
       "0                 Canon imageCLASS 2200 Advanced Copier 61599.824   61599.824\n",
       "1     Fellowes PB500 Electric Punch Plastic Comb Bin... 27453.384   89053.208\n",
       "2     Cisco TelePresence System EX90 Videoconferenci... 22638.480  111691.688\n",
       "3          HON 5400 Series Task Chairs for Big and Tall 21870.576  133562.264\n",
       "4            GBC DocuBind TL300 Electric Binding System 19823.479  153385.743\n",
       "...                                                 ...       ...         ...\n",
       "1844  Avery Hi-Liter Pen Style Six-Color Fluorescent...     7.700 2297179.924\n",
       "1845                                Grip Seal Envelopes     7.072 2297186.996\n",
       "1846                                           Xerox 20     6.480 2297193.476\n",
       "1847                                            Avery 5     5.760 2297199.236\n",
       "1848  Eureka Disposable Bags for Sanitaire Vibra Gro...     1.624 2297200.860\n",
       "\n",
       "[1849 rows x 3 columns]"
      ]
     },
     "execution_count": 74,
     "metadata": {},
     "output_type": "execute_result"
    }
   ],
   "source": [
    "grouped_info"
   ]
  },
  {
   "cell_type": "code",
   "execution_count": 79,
   "id": "8c4fe5c2",
   "metadata": {},
   "outputs": [],
   "source": [
    "output = total_sales * 0.80"
   ]
  },
  {
   "cell_type": "code",
   "execution_count": 81,
   "id": "ab370453",
   "metadata": {},
   "outputs": [
    {
     "data": {
      "text/plain": [
       "419"
      ]
     },
     "execution_count": 81,
     "metadata": {},
     "output_type": "execute_result"
    }
   ],
   "source": [
    "filter_products = grouped_info['cum_sum'] <= output\n",
    "filtered_group = grouped_info[filter_products]\n",
    "len(filtered_group)"
   ]
  },
  {
   "cell_type": "code",
   "execution_count": 82,
   "id": "80ea84ca",
   "metadata": {},
   "outputs": [
    {
     "data": {
      "text/plain": [
       "22.66089778258518"
      ]
     },
     "execution_count": 82,
     "metadata": {},
     "output_type": "execute_result"
    }
   ],
   "source": [
    "419/1849 * 100"
   ]
  }
 ],
 "metadata": {
  "kernelspec": {
   "display_name": "Python 3 (ipykernel)",
   "language": "python",
   "name": "python3"
  },
  "language_info": {
   "codemirror_mode": {
    "name": "ipython",
    "version": 3
   },
   "file_extension": ".py",
   "mimetype": "text/x-python",
   "name": "python",
   "nbconvert_exporter": "python",
   "pygments_lexer": "ipython3",
   "version": "3.8.10"
  }
 },
 "nbformat": 4,
 "nbformat_minor": 5
}
